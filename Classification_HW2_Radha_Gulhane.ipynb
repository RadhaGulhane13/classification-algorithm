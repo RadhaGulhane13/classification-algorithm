{
  "cells": [
    {
      "cell_type": "code",
      "source": [],
      "metadata": {
        "id": "3Z8Jn4JMeCsy"
      },
      "execution_count": null,
      "outputs": []
    },
    {
      "cell_type": "markdown",
      "metadata": {
        "tags": [],
        "id": "mHBevll_7dWK"
      },
      "source": [
        "# CSE 5243 - Introduction to Data Mining\n",
        "## Homework 2: Classification\n",
        "- Semester: Spring 2023\n",
        "- Instructor: Tom Bihari\n",
        "- Section Days/Time: Wednesday/Friday 9:35 AM or 12:45 PM (FILL IN)\n",
        "- Student Name: Radha Gulhane\n",
        "- Student Email: gulhane.2@osu.edu\n",
        "- Student ID: 500691797\n",
        "***"
      ]
    },
    {
      "cell_type": "markdown",
      "metadata": {
        "tags": [],
        "id": "l8pmBmo77dWL"
      },
      "source": [
        "***\n",
        "# Section: Overview"
      ]
    },
    {
      "cell_type": "markdown",
      "metadata": {
        "id": "zLqBokvU7dWM"
      },
      "source": [
        "### Assignment Overview\n",
        "\n",
        "This assignment covers the **steps 4 and 5 of the six steps** of the **CRISP-DM process model** (Modelng and Evaluation). (See the CRISP-DM materials on CARMEN.)\n",
        "\n",
        "The **objectives** of this assignment are:\n",
        "- Solve a business problem by creating, evaluating, and comparing three classification models, and produce the outputs needed to provide business value for your stakeholders.\n",
        "- Experiment with built-in classification models in **scikit-learn**.\n",
        "\n",
        "### Dataset\n",
        "**NOTE: Since you already have pre-processed this dataset in the previous assignment, you may choose to use your \"cleaned up\" dataset from that assignment instead of re-doing the work here.**\n",
        "\n",
        "In this assignment, you will analyze an ALTERED copy of the “Hotel Booking Demand” dataset.\n",
        "- This dataset was pulled on 4/8/22 from: https://www.kaggle.com/datasets/jessemostipak/hotel-booking-demand\n",
        "- The dataset file is named: **hotel_bookings_with_errors_V1.csv**\n",
        "\n",
        "**The data has been altered slightly for use in course assignments,etc.:**\n",
        "- A unique ROW attribute has been added.\n",
        "- Errors have been added, such as: duplicated records, deleted records, deleted attribute values, erroneous attribute values.\n",
        "**DO NOT PUBLISH THIS DATASET - it contains intentionally wrong data!**\n",
        "\n",
        "### Problem Statement\n",
        "Assume that you are the Director of Data Science for Buckeye Resorts, Inc. (BRI), an international hotel chain.  As is the case for all hotel chains, reservation cancellations cause significant impacts to BRI, in profitability, logistics, and other areas.  Approximately **20%** of reservations are cancelled, and the cost to BRI of a cancelled reservation is **$500** on average. \n",
        "\n",
        "- BRI wants to improve (decrease) the cancellation rates at its hotels, using more tailored interventions, based on newly available detailed data.  BRI processes **100,000** reservations per year, so an incremental improvement in cancellation rates would have a significant impact.\n",
        "\n",
        "- One intervention being considered is to offer a special financial incentive to customers who have reservations, but who are “at risk” of cancellation.  BRI has performed a small pilot test, and has found that offering a **$80** discount to a customer who is planning to cancel is effective **35%** of the time in inducing the customer not to cancel (by locking in a “no cancellation” clause).\n",
        "\n",
        "- BRI leadership has asked your team to analyze the new data, and determine if it is suitable for developing analyses and models that would be effective in predicting which future reservations are likely to be at risk of cancellation, so the aforementioned financial incentive could be offered.\n",
        "\n",
        "- The head of BRI would then like you attend the upcoming BRI Board of Directors meeting.  She has asked you to present your findings to her and to the BOD, to help them decide whether to go forward with the planned tailored intervention approach, and/or to adjust or abandon the approach.  Your goal is to support the BOD in making a decision. \n",
        "\n",
        "**In the previous assignment**, you completed the sections for the first three steps of CRISP-DM.  You **explored** the dataset, and **prepared** a clean dataset from it that contains the kind of information you think might be useful.  You now will make use of the dataset.\n",
        "\n",
        "### Things To Do\n",
        "You now must **develop** and **evaluate** specific models for predicting the cancellations.  You will try the **off-the-shelf KNN classifier**, and **two other classifiers of your choice**.\n",
        "\n",
        "Some intial guidance / sugggestions:\n",
        "\n",
        "- You must develop a cost model from the problem statement above.  Consider creating a table that lists the benefit and cost dollar amounts for a decision on a **single customer**.  Note that the incentive will be \"offered\" if Predicted is True, and the incentive is \"needed\" if Actual is True:\n",
        "\n",
        "| Actual \"At Risk\" | Predicted \"At Risk\" | Incentive Benefit | Incentive Cost | Net Benefit (Benefit-Cost) |\n",
        "|---|---|---|---|---|\n",
        "| False | False | ? | ? | ? |\n",
        "| False | True  | ? | ? | ? |\n",
        "| True  | False | ? | ? | ? |\n",
        "| True  | True  | ? | ? | ? |\n",
        "\n",
        "- Much of the code below may be repetitive.  Consider creating a few reusable functions that can be called for each of the models you build (e.g., evaluation functions).\n",
        "\n",
        "- **Follow the instructions** in each of the sections below.\n",
        "\n",
        "It is essential that you **communicate** your goals, thought process, actions, results, and conclusions to the **audience** that will consume this work.  It is **not enough** to show just the code.  It is not appropriate to show long sections of **unexplained printout**, etc.  Be kind to your readers and provide value to them!\n",
        "\n",
        "**ALWAYS follow this pattern** when doing **each portion** of the work.  This allows us to give feedback and assign scores, and to give partial credit.  Make it easy for the reader to understand your work.\n",
        "- Say (briefly) **what** you are trying to do, and **why**.\n",
        "- Do it (code).\n",
        "- Show or describe the **result** clearly (and briefly as needed), and explain the significant **conclusions or insights** derived from the results. "
      ]
    },
    {
      "cell_type": "markdown",
      "metadata": {
        "tags": [],
        "id": "_KU__ew97dWN"
      },
      "source": [
        "### Collaboration\n",
        "For this assignment, you should work as an individual. You may informally discuss ideas with classmates, but your work should be your own.\n",
        "\n",
        "### What you need to turn in:\n",
        "1)\tCode\n",
        "\n",
        "-\tFor this homework, the code is the Jupyter Notebook.  Use the provided Jupyter Notebook template, and fill in the appropriate information.\n",
        "-\tYou may use common Python libraries for I/O, data manipulation, data visualization, etc. (e.g., NumPy, Pandas, MatPlotLib,…) \n",
        "-\tYou may not use library operations that perform, in effect, the “core” computations for this homework (e.g., If the assignment is to write a K-Means algorithm, you may not use a library operation that, in effect, does the core work needed to implement a K-Means algorithm.).  When in doubt, ask the grader or instructor.  (**Note: For this assignment, you *will* be using build in library functions, so you are permitted to do so.  You may not, however, make use of a single function that does *all* of the work for you.**\n",
        "-\tThe code must be written by you, and any significant code snips you found on the Internet and used to understand how to do your coding for the core functionality must be attributed.  (You do not need to attribute basic functionality – matrix operations, IO, etc.)\n",
        "-\tThe code must be commented sufficiently to allow a reader to understand the algorithm without reading the actual Python, step by step.\n",
        "-\t**When in doubt, ask the grader or instructor.**\n",
        "\n",
        "2)\tWritten Report\n",
        "-\tFor this homework, the report is the Jupyter Notebook.  The report should be well-written.  Please proof-read and remove spelling and grammar errors and typos.\n",
        "-\tThe report should discuss your analysis and observations. Key points and findings must be written in a style suitable for consumption by non-experts.  Present charts and graphs to support your observations. If you performed any data processing, cleaning, etc., please discuss it within the report.\n",
        "\n",
        "### Grading\n",
        "\n",
        "1.\tOverall readability and organization of your report (5%)\n",
        "> - Is it well organized and does the presentation flow in a logical manner?\n",
        "> - Are there no grammar and spelling mistakes?\n",
        "> - Do the charts/graphs relate to the text?\n",
        "> - Are the summarized key points and findings understandable by non-experts?\n",
        "> - Do the Overview and Conclusions provide context for the entire exercise?\n",
        "2.\tEvaluation Method (10%)\n",
        "> - Does your evaluation method meet the needs of the developer (you) as well as the needs of your business stakeholders?\n",
        "> - Is the evaluation method sound?\n",
        "> - Did you describe both the method itself and why you chose it?\n",
        "3.\tPre-Processing of the Dataset (10%)\n",
        "> - Did you make reasonable choices for pre-processing, and explain why you made them?\n",
        "4.\tEvaluation of the KNN Classifier (20%)\n",
        "> - Is your algorithm design and coding correct?\n",
        "> - Is it well documented?\n",
        "> - Have you made an effort to tune it for good performance?\n",
        "> - Is the evaluation sound?\n",
        "5.\tEvaluation of the Second Classifier (20%)\n",
        "> - Is your algorithm design and coding correct?\n",
        "> - Is it well documented?\n",
        "> - Have you made an effort to tune it for good performance?\n",
        "> - Is the evaluation sound?\n",
        "6.\tEvaluation of the Third Classifier (20%)\n",
        "> - Is your algorithm design and coding correct?\n",
        "> - Is it well documented?\n",
        "> - Have you made an effort to tune it for good performance?\n",
        "> - Is the evaluation sound?\n",
        "7.\tComparison of the Three Classifiers (10%)\n",
        "> - Is the comparison sound?\n",
        "> - Did you choose a specific classifier as best and explain why?\n",
        "8.  Conclusions (5%)\n",
        "> - Did you summarize appropriately your critical findings. \n",
        "> - Did you provide appropriate conclusions and next steps.\n",
        "\n",
        "### How to turn in your work on Carmen:\n",
        "\n",
        "Submit to Carmen the Jupyter Notebook. You do not need to include the input data.\n",
        "\n",
        "**HAVE FUN!**\n",
        "***"
      ]
    },
    {
      "cell_type": "markdown",
      "metadata": {
        "tags": [],
        "id": "pyH950HW7dWP"
      },
      "source": [
        "***\n",
        "# Section: Overview\n",
        "- Insert a short description of the scope of this exercise, any supporting information, etc.\n",
        "***"
      ]
    },
    {
      "cell_type": "markdown",
      "source": [
        "\n",
        "* This exercise requires to train 3 different classification models for the given problem statement and dataset. Aim of the exercise is to train different classifiers and compare their performance. At the end, we want to finalize one classifier which will be best for given problem statement and dataset."
      ],
      "metadata": {
        "id": "GkEez7jve2ie"
      }
    },
    {
      "cell_type": "code",
      "execution_count": null,
      "metadata": {
        "id": "p_zC2Fcm7dWP"
      },
      "outputs": [],
      "source": []
    },
    {
      "cell_type": "markdown",
      "metadata": {
        "id": "1yCryn2L7dWQ"
      },
      "source": [
        "***\n",
        "# Section: Setup\n",
        "- Add any needed imports, helper functions, etc., here.\n",
        "***"
      ]
    },
    {
      "cell_type": "code",
      "execution_count": null,
      "metadata": {
        "id": "FSkUwgGk7dWR"
      },
      "outputs": [],
      "source": [
        "from sklearn.neighbors import KNeighborsClassifier\n",
        "from sklearn import tree\n",
        "from sklearn import model_selection\n",
        "from sklearn.ensemble import RandomForestClassifier\n",
        "from sklearn.ensemble import ExtraTreesClassifier\n",
        "import pandas as pd\n",
        "import matplotlib.pyplot as plt\n",
        "import seaborn as sns\n",
        "import numpy as np\n",
        "\n",
        "%matplotlib inline"
      ]
    },
    {
      "cell_type": "code",
      "source": [
        "## Creating dataframe which will store performance of classifier. It will help comparing performance with respect to each measures.\n",
        "Classifier_performance = pd.DataFrame(columns = ['Classifier', 'Accuracy', 'Recall', 'Precision', 'Net Benefit'])"
      ],
      "metadata": {
        "id": "U-GbQypConE7"
      },
      "execution_count": null,
      "outputs": []
    },
    {
      "cell_type": "markdown",
      "metadata": {
        "id": "Wp8vIFvl7dWR"
      },
      "source": [
        "***\n",
        "# Section: 1 - Evaluation Method\n",
        "- Define measures for evaluating the classification models you develop.  Explain why the measures you choose provide a useful view into the value and usefulness of the model you eventually chose for the company to use.  **Note: In this section, you should define and explain your measures.  You may create a reusable function here if you like.  You then will use the functions in later sections.**\n",
        "- Define two types:\n",
        "***"
      ]
    },
    {
      "cell_type": "markdown",
      "metadata": {
        "id": "o20cLfpF7dWR"
      },
      "source": [
        "***\n",
        "## Section: 1.1 - Define measures that **do not** include the cost information\n",
        "- (e.g., confusion matrices, accuracy, precision, recall, F-measures, etc.).\n",
        "- Consider using: from sklearn.metrics import classification_report, confusion_matrix\n",
        "***"
      ]
    },
    {
      "cell_type": "code",
      "execution_count": null,
      "metadata": {
        "id": "iMYF-loy7dWR"
      },
      "outputs": [],
      "source": [
        "from sklearn.metrics import classification_report, confusion_matrix\n",
        "from sklearn.metrics import accuracy_score\n",
        "from sklearn.metrics import recall_score\n",
        "from sklearn.metrics import precision_score"
      ]
    },
    {
      "cell_type": "markdown",
      "source": [
        "* For each of the classifier, I am considering accuracy_score, recall_score, and precision_score as a measure. \n",
        "* As, we have imbalanced dataset , replying completely on accuracy score may be the best measure of performance. Thus, we should consider recall and precision measures. \n",
        "* For given problem statement, we might give more weightage to recall than precision because cost of missing a positive case (false negative i.e. cost of  predicting reservation as not at risk of cancellation when reservation is at risk of cancellation incorrectly is significant) is higher."
      ],
      "metadata": {
        "id": "qQx1ZDU1Xpi9"
      }
    },
    {
      "cell_type": "markdown",
      "metadata": {
        "tags": [],
        "id": "XF2Stwme7dWR"
      },
      "source": [
        "***\n",
        "## Section: 1.2 - Define measures that **do** include the cost information\n",
        "- (e.g., using cost matrices).\n",
        "- Consider creating a function that takes a confusion matrix and calculates the cost.\n",
        "***"
      ]
    },
    {
      "cell_type": "code",
      "execution_count": null,
      "metadata": {
        "id": "lN63GMU27dWS"
      },
      "outputs": [],
      "source": [
        "def calculate_cost(conf_matrix):\n",
        "    cost_matrix = np.array([[95, -500], [-80, 0]])\n",
        "    \n",
        "    total_cost = np.sum(conf_matrix * cost_matrix)\n",
        "\n",
        "    return total_cost"
      ]
    },
    {
      "cell_type": "markdown",
      "source": [
        "| Actual \"At Risk\" | Predicted \"At Risk\" | Incentive Benefit | Incentive Cost | Net Benefit (Benefit-Cost) |\n",
        "|---|---|---|---|---|\n",
        "| False | False | 0 | 0 |  0|\n",
        "| False | True  | 0 | 80 | -80 |\n",
        "| True  | False | 0 | 500 | -500 |\n",
        "| True  | True  | 175 | 80 | 95 |\n"
      ],
      "metadata": {
        "id": "UPVRHoJ0IzmL"
      }
    },
    {
      "cell_type": "markdown",
      "source": [
        "\n",
        "* Given problem describes that BRI has offering a $80 discount to a customer who is planning to cancel is effective 35% . \n",
        "* Incentive benefits:\n",
        "BRI  will get incentive benefits only when we predict risk of cancellation is tree and it is actually cancelled.\n",
        "(true-true) = 35/100 * 500 ( as cost of cancellation is 500 dollars which will be effectove 35 % of times) .\n",
        "\n",
        "* Incentive cost : As BRI offering $80 and if we predict it as risk of cancellation, then it will cost 80 dollars. Thus, true-false and false-false will be 80 dollars\n"
      ],
      "metadata": {
        "id": "UTKUjT6nJhOZ"
      }
    },
    {
      "cell_type": "markdown",
      "metadata": {
        "id": "BtLeRaek7dWS"
      },
      "source": [
        "***\n",
        "# Section: 2 - Pre-Processing of the Dataset\n",
        "- Load the dataset.\n",
        "- Split the dataset into a Training dataset and a Test dataset based on the class attribute.  Keep them separate and use the Training dataset for training/tuning and the Test dataset for testing. For consistency, use the **train_test_split** operation available in SciKit Learn (use a specific random seed, so it is reproducible).\n",
        "  - from sklearn.model_selection import train_test_split\n",
        "  - X_train, X_test, y_train, y_test = train_test_split(X, y, test_size=0.33, random_state=42)\n",
        "- **NOTE: You have done much of the data preprocessing in the previous assignment, so you don't have to re-do it here.  You can either copy the necessary code from the previous assignment, or generate the clean dataset from the previous assignment and load it here.**\n",
        "***"
      ]
    },
    {
      "cell_type": "markdown",
      "metadata": {
        "id": "qT9uBNNh7dWS"
      },
      "source": [
        "***\n",
        "## Section: 2.1 - Explore the attributes\n",
        "- As in Homework 1, explore the attributes briefly. Reference the website listed in the Introduction.\n",
        "- Provide basic statistics for the attributes.\n",
        "- List which attributes are Nominal (even though they are encoded as numbers), Ordinal, Interval, Ratio.\n",
        "- **NOTE: Just summarize here.  You will need to know which attributes are Nominal, etc., so it would be useful to list them here.**\n",
        "***"
      ]
    },
    {
      "cell_type": "markdown",
      "source": [
        "- **Attribute,  Type,  DataType,  Meaning**\n",
        "- ROW,  ordinal,  integer,  Record number 0,1,2,3,...\n",
        "- hotel, nominal, string, hotel type(Resort Hotel, City Hotel) \n",
        "- is_canceled, nominal, boolean, If (booking was canceled) 1; else 0\n",
        "- lead_time, interval, integer, Number of days that elapsed between the entering date of the booking into the PMS and the arrival date\n",
        "- arrival_date_year, interval, integer, Year of arrival date(2015 - 2017)\n",
        "- arrival_date_month, ordinal, string, Month of arrival date(January, February, ...)\n",
        "- arrival_date_week_number, interval, integer, Week of arrival date (1-7)\n",
        "- arrival_date_day_of_month, interval, integer, date of arrival date (1-31)\n",
        "- stays_in_weekend_nights,  ratio,  integer,  Number of weekend nights guest booked the hotel \n",
        "- stays_in_week_nights,  ratio,  integer,  Number of week nights guest booked the hotel \n",
        "- adults,  ratio,  integer,  Number of adults\n",
        "- children,  ratio,  float,  Number of children\n",
        "- babies,  ratio,  integer,  Number of babies \n",
        "- meal, nominal,  string,  Type of meal booked (BB, HB, SC, FB,...)\n",
        "- country, nominal,  string,  Country of origin(PRT, GBR, ...)\n",
        "- market_segment,  nominal,  string,  Market segment designation (TA, TO, ...)\n",
        "- distribution_channel,  nominal,  string,  Booking distribution channel (TA, TO, ...)\n",
        "- is_repeated_guest,  nominal,  boolean,   If (guest done any reservations before) 1; else 0\n",
        "- previous_cancellations,  ratio,  integer,  Number of previous bookings\n",
        "- previous_bookings_not_canceled,   ratio,  integer,  Number of previous bookings not cancelled  \n",
        "- reserved_room_type,  ordinal,  string,  Code of room type reserved\n",
        "- assigned_room_type,  ordinal,  string,  Code for the type of room assigned\n",
        "- booking_changes,  ratio,  integer,  Number of changes/amendments made to the booking\n",
        "- deposit_type,  nominal,  string,  Indicates if the customer made a deposit while booking(No Deposit, Non Refund, Refundable)\n",
        "- agent,  nominal,  float,  ID of the travel agency that made the booking\n",
        "- company, nominal,  float,  ID of the company/entity that made the booking\n",
        "- days_in_waiting_list,  ratio,  integer, Number of days the booking was in the waiting list  \n",
        "- customer_type,  nominal,  string, Type of booking(Contract , Group, Transient, Transient-party)\n",
        "- adr,  ratio,  float,  Average Daily Rate (sum of all lodging transactions / the total number of staying nights)\n",
        "- required_car_parking_spaces, ratio,  integer, Number of car parking spaces required by the customer\n",
        "- total_of_special_requests,  ratio,  integer,  Number of special requests made by the customer\n",
        "- reservation_status,  nominal,  string,  Reservation last status\n",
        "- reservation_status_date,  ordinal,  string,  Date at which the last status was set\n",
        "\n"
      ],
      "metadata": {
        "id": "JWJL2ZLEQyvi"
      }
    },
    {
      "cell_type": "code",
      "source": [
        "class_attribute_name = 'is_canceled'\n",
        "nominal_attribute_names = ['hotel', 'is_canceled', 'meal', 'country', 'market_segment', 'distribution_channel', 'is_repeated_guest', 'deposit_type',  'agent', 'company', 'customer_type', 'reservation_status']\n",
        "ordinal_attribute_names = ['arrival_date_month', 'reserved_room_type', 'assigned_room_type', 'reservation_status_date']  #['ROW']  # ROW may not be needed\n",
        "categorical_attribute_names = nominal_attribute_names + ordinal_attribute_names\n",
        "interval_attribute_names = ['lead_time', 'arrival_date_year', 'arrival_date_week_number', 'arrival_date_day_of_month']\n",
        "ratio_attribute_names = ['stays_in_weekend_nights', 'stays_in_week_nights', 'adults', 'children', 'babies', 'previous_cancellations', 'previous_bookings_not_canceled', 'booking_changes', 'days_in_waiting_list', 'adr', 'required_car_parking_spaces', 'total_of_special_requests']\n",
        "numerical_attribute_names = interval_attribute_names + ratio_attribute_names"
      ],
      "metadata": {
        "id": "Su_UqJ3gRD8y"
      },
      "execution_count": null,
      "outputs": []
    },
    {
      "cell_type": "markdown",
      "source": [
        "**Discussion:**\n",
        "\n",
        "- Class Attribute : 's_canceled'  I selected class attribute as 'is_canceled' as we want to predict whether the given  reservation is at the risk of cancelation or not.\n",
        "\n",
        "- Nominal Attributes : I selected the attributes from a data set as nominal attributes that do not have an inherent order or ranking. Example: Hotel, is_canceled, meal, etc. does not show any order or ranking. Moreover, they can not be categorized as Numerical as they are more likely used to describe qualities or characteristics.\n",
        "\n",
        "- Ordinal Attributes : There are four ordinal attributes, namely, 'arrival_date_month', 'reserved_room_type', 'assigned_room_type', 'reservation_status_date'. These attributes shows certain order. Example: In arrival_date_month, months follow certain order. Also, alphabates are used for 'reserved_room_type' or 'assigned_room_type' which has certian ordered. There is no need to include 'ROW' as it will just depicts the record number and can not be used in predictive model. \n",
        "\n",
        "- Categorical Attributes : It will contain nominal and ordinal attributes\n",
        "\n",
        "- Interval Attributes : Interval data are numerical variables that have a meaningful zero point, but they do not have a meaningful unit of measurement. I selected attributes whose data values will be based on fixed interval e.g. lead_time, year, week, dates\n",
        "\n",
        "- Ratio Attributes : I selected attributes as ratio attributes which can be meaningfully compared such as number of weekend or weekday stay, number of adults, children etc.\n",
        "\n",
        "- Numerical Attributes: These are numerical variables which can be continuous or discrete. It will contain interval and ratio attributes.\n",
        "\n",
        "\n",
        "\n"
      ],
      "metadata": {
        "id": "QNyDfMJIROvD"
      }
    },
    {
      "cell_type": "code",
      "source": [],
      "metadata": {
        "id": "b2nDyFZGRP4g"
      },
      "execution_count": null,
      "outputs": []
    },
    {
      "cell_type": "markdown",
      "metadata": {
        "id": "aOq8JzdM7dWS"
      },
      "source": [
        "***\n",
        "## Section: 2.2 - Revise the dataset\n",
        "- Review the meanings of the attributes and consider removing redundant or (likely) irrelevant attributes, combining attributes, etc., to reduce the number of attributes.\n",
        "- (You may choose to use techniques such as those you used in Homework 1 to analyze the impacts of individual attributes on the CLASS attribute.)\n",
        "- Describe what you chose to do (and not do), and why.\n",
        "-**NOTE: You can just load your cleaned-up dataset here if you like.**\n",
        "***"
      ]
    },
    {
      "cell_type": "markdown",
      "source": [
        "* I am loading the cleaned-up dataset from Homework 1"
      ],
      "metadata": {
        "id": "0ccOteoYRT86"
      }
    },
    {
      "cell_type": "code",
      "source": [
        "try:\n",
        "    _ = data_from_source_file_df\n",
        "    print(\"Reusing source data\")\n",
        "except:\n",
        "    print(\"Loading source data\")\n",
        "    from google.colab import drive\n",
        "    drive.mount('/content/drive')\n",
        "    data_from_source_file_df = pd.read_csv(\"/content/drive/MyDrive/Colab Notebooks/Data Mining/Homework2/hotel_bookings_cleaned_dataset.csv\")\n",
        "    data_df = data_from_source_file_df"
      ],
      "metadata": {
        "colab": {
          "base_uri": "https://localhost:8080/"
        },
        "id": "uHeiH31ARjIF",
        "outputId": "8cc594f7-6c76-4e2b-b1e1-48889b0a1ab6"
      },
      "execution_count": null,
      "outputs": [
        {
          "output_type": "stream",
          "name": "stdout",
          "text": [
            "Reusing source data\n"
          ]
        }
      ]
    },
    {
      "cell_type": "code",
      "source": [
        "small_df = data_df.sample(n=5000, replace=False, random_state=1)"
      ],
      "metadata": {
        "id": "9cRwEAV0UjdI"
      },
      "execution_count": null,
      "outputs": []
    },
    {
      "cell_type": "code",
      "execution_count": null,
      "metadata": {
        "id": "7AVqTf0s7dWT"
      },
      "outputs": [],
      "source": [
        "selected_columns =  ['lead_time', 'arrival_date', 'hotel', 'market_segment', 'distribution_channel', 'total_of_special_requests', 'reserved_room_type', 'deposit_type', 'customer_type', 'previous_cancellations', 'days_in_waiting_list']\n",
        "categorical_cols = ['arrival_date', 'hotel', 'market_segment', 'distribution_channel', 'reserved_room_type', 'deposit_type', 'customer_type']\n",
        "numerical_cols = ['is_canceled', 'lead_time', 'total_of_special_requests', 'days_in_waiting_list']\n",
        "class_attribute = ['is_canceled']\n"
      ]
    },
    {
      "cell_type": "markdown",
      "source": [
        "* For this assignment I selected only few attributes from all the attributes. \n",
        "slected attributes are : 'lead_time', 'arrival_date', 'hotel', 'market_segment', 'distribution_channel', 'total_of_special_requests', 'reserved_room_type', 'deposit_type', 'customer_type', 'previous_cancellations', 'days_in_waiting_list']\n",
        "* I dropped attributes such as adult count, children count, company, agent , etc. , as I did not find any relevent relationship with those attribute with the class attributes.\n",
        "* Moreover, when I trained model by selecting all the attributes, I was facing model overfitting problem.\n",
        "* I found 'lead_time', 'hotel', 'market_segment', 'distribution_channel', 'total_of_special_requests', 'reserved_room_type', 'deposit_type', 'customer_type', etc. attributes more relevent and thus decided to choose them."
      ],
      "metadata": {
        "id": "nybMk91QRp0J"
      }
    },
    {
      "cell_type": "code",
      "source": [
        "data_df.describe()"
      ],
      "metadata": {
        "colab": {
          "base_uri": "https://localhost:8080/",
          "height": 364
        },
        "id": "jHK-zsLPVGA3",
        "outputId": "986d207d-dd56-4073-875d-24cc186d609f"
      },
      "execution_count": null,
      "outputs": [
        {
          "output_type": "execute_result",
          "data": {
            "text/plain": [
              "                 ROW    is_canceled      lead_time  stays_in_weekend_nights  \\\n",
              "count  119388.000000  119388.000000  119388.000000            119388.000000   \n",
              "mean    59695.374544       0.370414     104.011333                 0.927581   \n",
              "std     34464.681380       0.482918     106.863410                 0.998579   \n",
              "min         0.000000       0.000000       0.000000                 0.000000   \n",
              "25%     29848.750000       0.000000      18.000000                 0.000000   \n",
              "50%     59695.500000       0.000000      69.000000                 1.000000   \n",
              "75%     89542.250000       1.000000     160.000000                 2.000000   \n",
              "max    119389.000000       1.000000     737.000000                19.000000   \n",
              "\n",
              "       stays_in_week_nights         adults       children         babies  \\\n",
              "count          119388.00000  119388.000000  119388.000000  119388.000000   \n",
              "mean                2.50026       1.856568       0.103888       0.007949   \n",
              "std                 1.90827       0.582192       0.398558       0.097437   \n",
              "min                 0.00000       0.000000       0.000000       0.000000   \n",
              "25%                 1.00000       2.000000       0.000000       0.000000   \n",
              "50%                 2.00000       2.000000       0.000000       0.000000   \n",
              "75%                 3.00000       2.000000       0.000000       0.000000   \n",
              "max                50.00000      55.000000      10.000000      10.000000   \n",
              "\n",
              "       is_repeated_guest  previous_cancellations  \\\n",
              "count      119388.000000           119388.000000   \n",
              "mean            0.031904                0.087119   \n",
              "std             0.175746                0.844343   \n",
              "min             0.000000                0.000000   \n",
              "25%             0.000000                0.000000   \n",
              "50%             0.000000                0.000000   \n",
              "75%             0.000000                0.000000   \n",
              "max             1.000000               26.000000   \n",
              "\n",
              "       previous_bookings_not_canceled  booking_changes          agent  \\\n",
              "count                   119388.000000    119388.000000  119388.000000   \n",
              "mean                         0.137082         0.221111      74.825276   \n",
              "std                          1.497440         0.652290     107.140249   \n",
              "min                          0.000000         0.000000       0.000000   \n",
              "25%                          0.000000         0.000000       7.000000   \n",
              "50%                          0.000000         0.000000       9.000000   \n",
              "75%                          0.000000         0.000000     152.000000   \n",
              "max                         72.000000        21.000000     535.000000   \n",
              "\n",
              "       days_in_waiting_list            adr  required_car_parking_spaces  \\\n",
              "count         119388.000000  119388.000000                119388.000000   \n",
              "mean               2.321188     101.787473                     0.062519   \n",
              "std               17.594866      48.152699                     0.245293   \n",
              "min                0.000000       0.000000                     0.000000   \n",
              "25%                0.000000      69.290000                     0.000000   \n",
              "50%                0.000000      94.575000                     0.000000   \n",
              "75%                0.000000     126.000000                     0.000000   \n",
              "max              391.000000     510.000000                     8.000000   \n",
              "\n",
              "       total_of_special_requests  \n",
              "count              119388.000000  \n",
              "mean                    0.571372  \n",
              "std                     0.792802  \n",
              "min                     0.000000  \n",
              "25%                     0.000000  \n",
              "50%                     0.000000  \n",
              "75%                     1.000000  \n",
              "max                     5.000000  "
            ],
            "text/html": [
              "\n",
              "  <div id=\"df-c4f1f197-d4b2-4dd9-ac83-b4fcbe5064b4\">\n",
              "    <div class=\"colab-df-container\">\n",
              "      <div>\n",
              "<style scoped>\n",
              "    .dataframe tbody tr th:only-of-type {\n",
              "        vertical-align: middle;\n",
              "    }\n",
              "\n",
              "    .dataframe tbody tr th {\n",
              "        vertical-align: top;\n",
              "    }\n",
              "\n",
              "    .dataframe thead th {\n",
              "        text-align: right;\n",
              "    }\n",
              "</style>\n",
              "<table border=\"1\" class=\"dataframe\">\n",
              "  <thead>\n",
              "    <tr style=\"text-align: right;\">\n",
              "      <th></th>\n",
              "      <th>ROW</th>\n",
              "      <th>is_canceled</th>\n",
              "      <th>lead_time</th>\n",
              "      <th>stays_in_weekend_nights</th>\n",
              "      <th>stays_in_week_nights</th>\n",
              "      <th>adults</th>\n",
              "      <th>children</th>\n",
              "      <th>babies</th>\n",
              "      <th>is_repeated_guest</th>\n",
              "      <th>previous_cancellations</th>\n",
              "      <th>previous_bookings_not_canceled</th>\n",
              "      <th>booking_changes</th>\n",
              "      <th>agent</th>\n",
              "      <th>days_in_waiting_list</th>\n",
              "      <th>adr</th>\n",
              "      <th>required_car_parking_spaces</th>\n",
              "      <th>total_of_special_requests</th>\n",
              "    </tr>\n",
              "  </thead>\n",
              "  <tbody>\n",
              "    <tr>\n",
              "      <th>count</th>\n",
              "      <td>119388.000000</td>\n",
              "      <td>119388.000000</td>\n",
              "      <td>119388.000000</td>\n",
              "      <td>119388.000000</td>\n",
              "      <td>119388.00000</td>\n",
              "      <td>119388.000000</td>\n",
              "      <td>119388.000000</td>\n",
              "      <td>119388.000000</td>\n",
              "      <td>119388.000000</td>\n",
              "      <td>119388.000000</td>\n",
              "      <td>119388.000000</td>\n",
              "      <td>119388.000000</td>\n",
              "      <td>119388.000000</td>\n",
              "      <td>119388.000000</td>\n",
              "      <td>119388.000000</td>\n",
              "      <td>119388.000000</td>\n",
              "      <td>119388.000000</td>\n",
              "    </tr>\n",
              "    <tr>\n",
              "      <th>mean</th>\n",
              "      <td>59695.374544</td>\n",
              "      <td>0.370414</td>\n",
              "      <td>104.011333</td>\n",
              "      <td>0.927581</td>\n",
              "      <td>2.50026</td>\n",
              "      <td>1.856568</td>\n",
              "      <td>0.103888</td>\n",
              "      <td>0.007949</td>\n",
              "      <td>0.031904</td>\n",
              "      <td>0.087119</td>\n",
              "      <td>0.137082</td>\n",
              "      <td>0.221111</td>\n",
              "      <td>74.825276</td>\n",
              "      <td>2.321188</td>\n",
              "      <td>101.787473</td>\n",
              "      <td>0.062519</td>\n",
              "      <td>0.571372</td>\n",
              "    </tr>\n",
              "    <tr>\n",
              "      <th>std</th>\n",
              "      <td>34464.681380</td>\n",
              "      <td>0.482918</td>\n",
              "      <td>106.863410</td>\n",
              "      <td>0.998579</td>\n",
              "      <td>1.90827</td>\n",
              "      <td>0.582192</td>\n",
              "      <td>0.398558</td>\n",
              "      <td>0.097437</td>\n",
              "      <td>0.175746</td>\n",
              "      <td>0.844343</td>\n",
              "      <td>1.497440</td>\n",
              "      <td>0.652290</td>\n",
              "      <td>107.140249</td>\n",
              "      <td>17.594866</td>\n",
              "      <td>48.152699</td>\n",
              "      <td>0.245293</td>\n",
              "      <td>0.792802</td>\n",
              "    </tr>\n",
              "    <tr>\n",
              "      <th>min</th>\n",
              "      <td>0.000000</td>\n",
              "      <td>0.000000</td>\n",
              "      <td>0.000000</td>\n",
              "      <td>0.000000</td>\n",
              "      <td>0.00000</td>\n",
              "      <td>0.000000</td>\n",
              "      <td>0.000000</td>\n",
              "      <td>0.000000</td>\n",
              "      <td>0.000000</td>\n",
              "      <td>0.000000</td>\n",
              "      <td>0.000000</td>\n",
              "      <td>0.000000</td>\n",
              "      <td>0.000000</td>\n",
              "      <td>0.000000</td>\n",
              "      <td>0.000000</td>\n",
              "      <td>0.000000</td>\n",
              "      <td>0.000000</td>\n",
              "    </tr>\n",
              "    <tr>\n",
              "      <th>25%</th>\n",
              "      <td>29848.750000</td>\n",
              "      <td>0.000000</td>\n",
              "      <td>18.000000</td>\n",
              "      <td>0.000000</td>\n",
              "      <td>1.00000</td>\n",
              "      <td>2.000000</td>\n",
              "      <td>0.000000</td>\n",
              "      <td>0.000000</td>\n",
              "      <td>0.000000</td>\n",
              "      <td>0.000000</td>\n",
              "      <td>0.000000</td>\n",
              "      <td>0.000000</td>\n",
              "      <td>7.000000</td>\n",
              "      <td>0.000000</td>\n",
              "      <td>69.290000</td>\n",
              "      <td>0.000000</td>\n",
              "      <td>0.000000</td>\n",
              "    </tr>\n",
              "    <tr>\n",
              "      <th>50%</th>\n",
              "      <td>59695.500000</td>\n",
              "      <td>0.000000</td>\n",
              "      <td>69.000000</td>\n",
              "      <td>1.000000</td>\n",
              "      <td>2.00000</td>\n",
              "      <td>2.000000</td>\n",
              "      <td>0.000000</td>\n",
              "      <td>0.000000</td>\n",
              "      <td>0.000000</td>\n",
              "      <td>0.000000</td>\n",
              "      <td>0.000000</td>\n",
              "      <td>0.000000</td>\n",
              "      <td>9.000000</td>\n",
              "      <td>0.000000</td>\n",
              "      <td>94.575000</td>\n",
              "      <td>0.000000</td>\n",
              "      <td>0.000000</td>\n",
              "    </tr>\n",
              "    <tr>\n",
              "      <th>75%</th>\n",
              "      <td>89542.250000</td>\n",
              "      <td>1.000000</td>\n",
              "      <td>160.000000</td>\n",
              "      <td>2.000000</td>\n",
              "      <td>3.00000</td>\n",
              "      <td>2.000000</td>\n",
              "      <td>0.000000</td>\n",
              "      <td>0.000000</td>\n",
              "      <td>0.000000</td>\n",
              "      <td>0.000000</td>\n",
              "      <td>0.000000</td>\n",
              "      <td>0.000000</td>\n",
              "      <td>152.000000</td>\n",
              "      <td>0.000000</td>\n",
              "      <td>126.000000</td>\n",
              "      <td>0.000000</td>\n",
              "      <td>1.000000</td>\n",
              "    </tr>\n",
              "    <tr>\n",
              "      <th>max</th>\n",
              "      <td>119389.000000</td>\n",
              "      <td>1.000000</td>\n",
              "      <td>737.000000</td>\n",
              "      <td>19.000000</td>\n",
              "      <td>50.00000</td>\n",
              "      <td>55.000000</td>\n",
              "      <td>10.000000</td>\n",
              "      <td>10.000000</td>\n",
              "      <td>1.000000</td>\n",
              "      <td>26.000000</td>\n",
              "      <td>72.000000</td>\n",
              "      <td>21.000000</td>\n",
              "      <td>535.000000</td>\n",
              "      <td>391.000000</td>\n",
              "      <td>510.000000</td>\n",
              "      <td>8.000000</td>\n",
              "      <td>5.000000</td>\n",
              "    </tr>\n",
              "  </tbody>\n",
              "</table>\n",
              "</div>\n",
              "      <button class=\"colab-df-convert\" onclick=\"convertToInteractive('df-c4f1f197-d4b2-4dd9-ac83-b4fcbe5064b4')\"\n",
              "              title=\"Convert this dataframe to an interactive table.\"\n",
              "              style=\"display:none;\">\n",
              "        \n",
              "  <svg xmlns=\"http://www.w3.org/2000/svg\" height=\"24px\"viewBox=\"0 0 24 24\"\n",
              "       width=\"24px\">\n",
              "    <path d=\"M0 0h24v24H0V0z\" fill=\"none\"/>\n",
              "    <path d=\"M18.56 5.44l.94 2.06.94-2.06 2.06-.94-2.06-.94-.94-2.06-.94 2.06-2.06.94zm-11 1L8.5 8.5l.94-2.06 2.06-.94-2.06-.94L8.5 2.5l-.94 2.06-2.06.94zm10 10l.94 2.06.94-2.06 2.06-.94-2.06-.94-.94-2.06-.94 2.06-2.06.94z\"/><path d=\"M17.41 7.96l-1.37-1.37c-.4-.4-.92-.59-1.43-.59-.52 0-1.04.2-1.43.59L10.3 9.45l-7.72 7.72c-.78.78-.78 2.05 0 2.83L4 21.41c.39.39.9.59 1.41.59.51 0 1.02-.2 1.41-.59l7.78-7.78 2.81-2.81c.8-.78.8-2.07 0-2.86zM5.41 20L4 18.59l7.72-7.72 1.47 1.35L5.41 20z\"/>\n",
              "  </svg>\n",
              "      </button>\n",
              "      \n",
              "  <style>\n",
              "    .colab-df-container {\n",
              "      display:flex;\n",
              "      flex-wrap:wrap;\n",
              "      gap: 12px;\n",
              "    }\n",
              "\n",
              "    .colab-df-convert {\n",
              "      background-color: #E8F0FE;\n",
              "      border: none;\n",
              "      border-radius: 50%;\n",
              "      cursor: pointer;\n",
              "      display: none;\n",
              "      fill: #1967D2;\n",
              "      height: 32px;\n",
              "      padding: 0 0 0 0;\n",
              "      width: 32px;\n",
              "    }\n",
              "\n",
              "    .colab-df-convert:hover {\n",
              "      background-color: #E2EBFA;\n",
              "      box-shadow: 0px 1px 2px rgba(60, 64, 67, 0.3), 0px 1px 3px 1px rgba(60, 64, 67, 0.15);\n",
              "      fill: #174EA6;\n",
              "    }\n",
              "\n",
              "    [theme=dark] .colab-df-convert {\n",
              "      background-color: #3B4455;\n",
              "      fill: #D2E3FC;\n",
              "    }\n",
              "\n",
              "    [theme=dark] .colab-df-convert:hover {\n",
              "      background-color: #434B5C;\n",
              "      box-shadow: 0px 1px 3px 1px rgba(0, 0, 0, 0.15);\n",
              "      filter: drop-shadow(0px 1px 2px rgba(0, 0, 0, 0.3));\n",
              "      fill: #FFFFFF;\n",
              "    }\n",
              "  </style>\n",
              "\n",
              "      <script>\n",
              "        const buttonEl =\n",
              "          document.querySelector('#df-c4f1f197-d4b2-4dd9-ac83-b4fcbe5064b4 button.colab-df-convert');\n",
              "        buttonEl.style.display =\n",
              "          google.colab.kernel.accessAllowed ? 'block' : 'none';\n",
              "\n",
              "        async function convertToInteractive(key) {\n",
              "          const element = document.querySelector('#df-c4f1f197-d4b2-4dd9-ac83-b4fcbe5064b4');\n",
              "          const dataTable =\n",
              "            await google.colab.kernel.invokeFunction('convertToInteractive',\n",
              "                                                     [key], {});\n",
              "          if (!dataTable) return;\n",
              "\n",
              "          const docLinkHtml = 'Like what you see? Visit the ' +\n",
              "            '<a target=\"_blank\" href=https://colab.research.google.com/notebooks/data_table.ipynb>data table notebook</a>'\n",
              "            + ' to learn more about interactive tables.';\n",
              "          element.innerHTML = '';\n",
              "          dataTable['output_type'] = 'display_data';\n",
              "          await google.colab.output.renderOutput(dataTable, element);\n",
              "          const docLink = document.createElement('div');\n",
              "          docLink.innerHTML = docLinkHtml;\n",
              "          element.appendChild(docLink);\n",
              "        }\n",
              "      </script>\n",
              "    </div>\n",
              "  </div>\n",
              "  "
            ]
          },
          "metadata": {},
          "execution_count": 386
        }
      ]
    },
    {
      "cell_type": "code",
      "source": [
        "data_df.info()"
      ],
      "metadata": {
        "colab": {
          "base_uri": "https://localhost:8080/"
        },
        "id": "BWku11WMVOGP",
        "outputId": "0e9a399a-7fd0-4f8a-c47f-7e95b1e70943"
      },
      "execution_count": null,
      "outputs": [
        {
          "output_type": "stream",
          "name": "stdout",
          "text": [
            "<class 'pandas.core.frame.DataFrame'>\n",
            "RangeIndex: 119388 entries, 0 to 119387\n",
            "Data columns (total 29 columns):\n",
            " #   Column                          Non-Null Count   Dtype  \n",
            "---  ------                          --------------   -----  \n",
            " 0   ROW                             119388 non-null  int64  \n",
            " 1   hotel                           119388 non-null  object \n",
            " 2   is_canceled                     119388 non-null  int64  \n",
            " 3   lead_time                       119388 non-null  int64  \n",
            " 4   stays_in_weekend_nights         119388 non-null  int64  \n",
            " 5   stays_in_week_nights            119388 non-null  int64  \n",
            " 6   adults                          119388 non-null  int64  \n",
            " 7   children                        119388 non-null  int64  \n",
            " 8   babies                          119388 non-null  int64  \n",
            " 9   meal                            119388 non-null  object \n",
            " 10  country                         119388 non-null  object \n",
            " 11  market_segment                  119388 non-null  object \n",
            " 12  distribution_channel            119388 non-null  object \n",
            " 13  is_repeated_guest               119388 non-null  int64  \n",
            " 14  previous_cancellations          119388 non-null  int64  \n",
            " 15  previous_bookings_not_canceled  119388 non-null  int64  \n",
            " 16  reserved_room_type              119388 non-null  object \n",
            " 17  assigned_room_type              119388 non-null  object \n",
            " 18  booking_changes                 119388 non-null  int64  \n",
            " 19  deposit_type                    119388 non-null  object \n",
            " 20  agent                           119388 non-null  int64  \n",
            " 21  days_in_waiting_list            119388 non-null  int64  \n",
            " 22  customer_type                   119388 non-null  object \n",
            " 23  adr                             119388 non-null  float64\n",
            " 24  required_car_parking_spaces     119388 non-null  int64  \n",
            " 25  total_of_special_requests       119388 non-null  int64  \n",
            " 26  reservation_status              119388 non-null  object \n",
            " 27  reservation_status_date         119388 non-null  object \n",
            " 28  arrival_date                    119388 non-null  object \n",
            "dtypes: float64(1), int64(16), object(12)\n",
            "memory usage: 26.4+ MB\n"
          ]
        }
      ]
    },
    {
      "cell_type": "code",
      "source": [
        "# Compute all of the (Pearson) *linear* correlations between pairs of numerical variables and display a heatmap.\n",
        "cor = data_df[numerical_cols].corr(method='pearson').round(2)\n",
        "plt.figure(figsize=(10,10))\n",
        "sns.heatmap(cor,annot=True, center=0.0, cmap='coolwarm')"
      ],
      "metadata": {
        "colab": {
          "base_uri": "https://localhost:8080/",
          "height": 728
        },
        "id": "SYpFpzfEUdRe",
        "outputId": "12a3076a-3186-46c9-eaaa-532ec212b8d8"
      },
      "execution_count": null,
      "outputs": [
        {
          "output_type": "execute_result",
          "data": {
            "text/plain": [
              "<AxesSubplot:>"
            ]
          },
          "metadata": {},
          "execution_count": 389
        },
        {
          "output_type": "display_data",
          "data": {
            "text/plain": [
              "<Figure size 720x720 with 2 Axes>"
            ],
            "image/png": "[encoded data removed]"
          },
          "metadata": {
            "needs_background": "light"
          }
        }
      ]
    },
    {
      "cell_type": "code",
      "source": [
        "plt.rcParams[\"figure.figsize\"]=(5,5)\n",
        "ax = data_df.boxplot('lead_time', by='is_canceled')\n",
        "ax.get_figure().suptitle(t=\"\")\n",
        "plt.title(\"Box Plot lead_time by is_canceled\")\n",
        "plt.show()"
      ],
      "metadata": {
        "colab": {
          "base_uri": "https://localhost:8080/",
          "height": 349
        },
        "id": "2pwVyjOmWG3q",
        "outputId": "6eced3fd-1893-494e-9fd6-e98558cad1b4"
      },
      "execution_count": null,
      "outputs": [
        {
          "output_type": "display_data",
          "data": {
            "text/plain": [
              "<Figure size 360x360 with 1 Axes>"
            ],
            "image/png": "[encoded data removed]"
          },
          "metadata": {
            "needs_background": "light"
          }
        }
      ]
    },
    {
      "cell_type": "code",
      "source": [
        "# EXAMPLE: Visualize the relationship between two specific categorical variables.\n",
        "from statsmodels.graphics.mosaicplot import mosaic\n",
        "\n",
        "plt.rcParams['font.size'] = 10.0\n",
        "plt.rcParams[\"figure.figsize\"]=(9,9)\n",
        "mosaic(data_df.sort_values(by='hotel', ascending=True), ['is_canceled', 'hotel'], title='')\n",
        "plt.show()"
      ],
      "metadata": {
        "colab": {
          "base_uri": "https://localhost:8080/",
          "height": 541
        },
        "id": "66rVlDkPS5SH",
        "outputId": "601e35bf-defd-443c-bd89-7b3ef0d5b700"
      },
      "execution_count": null,
      "outputs": [
        {
          "output_type": "display_data",
          "data": {
            "text/plain": [
              "<Figure size 648x648 with 3 Axes>"
            ],
            "image/png": "[encoded data removed]"
          },
          "metadata": {
            "needs_background": "light"
          }
        }
      ]
    },
    {
      "cell_type": "markdown",
      "metadata": {
        "id": "DwrVmK-W7dWT"
      },
      "source": [
        "***\n",
        "## Section: 2.3 - Transform the attributes\n",
        "- Consider transforming the remaining attributes (e.g., using the data dictionary to replace the numbers with text values for some attributes – this might or might not be useful), normalizing / scaling values, encoding labels (if necessary), etc.\n",
        "- Describe what you chose to do (and not do), and why.\n",
        "-**NOTE: If you want to do any additional transformations, you can do them here.**\n",
        "  - You also may need to do some specific transformations below for each of the classification models you choose.\n",
        "-**IMPORTANT: Any transformations you do to the datasets (particularly the Test dataset) must not artificially impact the evaluation measures.  We want the chosen classification model to work \"in the real world\", and the Test dataset is an approximation of the real world.**\n",
        "***"
      ]
    },
    {
      "cell_type": "code",
      "execution_count": null,
      "metadata": {
        "id": "bsYWdKd97dWT"
      },
      "outputs": [],
      "source": [
        "\n",
        "X = data_df[selected_columns]\n",
        "X = pd.get_dummies(X, columns=categorical_cols)\n",
        "y = data_df['is_canceled']\n"
      ]
    },
    {
      "cell_type": "markdown",
      "source": [
        "* Transforming categorical attributes inro numerical attributes using One-hot encoding process."
      ],
      "metadata": {
        "id": "s-2B4mo0TCvH"
      }
    },
    {
      "cell_type": "code",
      "source": [
        "# from sklearn import preprocessing\n",
        "# X = preprocessing.StandardScaler().fit(X).transform(X.astype(float))\n"
      ],
      "metadata": {
        "id": "YZVfWtcxTrwg"
      },
      "execution_count": null,
      "outputs": []
    },
    {
      "cell_type": "markdown",
      "source": [
        "* I tried transforming data using StandardScaler to normalized, but it was causing overfitting. Thus, I decided to not to use StandardScaler."
      ],
      "metadata": {
        "id": "YBuDeqMmTxRo"
      }
    },
    {
      "cell_type": "markdown",
      "source": [
        "###Data preperation by sampling\n"
      ],
      "metadata": {
        "id": "QIu7pDuwRvW9"
      }
    },
    {
      "cell_type": "code",
      "source": [
        "X_sampled = small_df[selected_columns]\n",
        "X_sampled = pd.get_dummies(X_sampled, columns=categorical_cols)\n",
        "y_sampled = small_df['is_canceled']"
      ],
      "metadata": {
        "id": "U-udPV9TSCmu"
      },
      "execution_count": null,
      "outputs": []
    },
    {
      "cell_type": "markdown",
      "source": [
        "- For some model, the given data is so big that it is taking too long to train model. Thus, using small dataset using sampling."
      ],
      "metadata": {
        "id": "bQYrFKX9W-Fh"
      }
    },
    {
      "cell_type": "code",
      "source": [],
      "metadata": {
        "id": "3EbeROnb7hxn"
      },
      "execution_count": null,
      "outputs": []
    },
    {
      "cell_type": "markdown",
      "metadata": {
        "id": "T0Lfo-Gt7dWT"
      },
      "source": [
        "***\n",
        "# Section: 3 - Evaluation of the Off-The-Shelf KNN Classifier\n",
        "- Select the KNN classifier from the SciKit Learn library and run it on the dataset.\n",
        "***"
      ]
    },
    {
      "cell_type": "markdown",
      "metadata": {
        "id": "0S-PbiNC7dWT"
      },
      "source": [
        "***\n",
        "## Section: 3.1 - Configure the off-the-shelf KNN classifier\n",
        "- Use the KNeighborsClassifier from the SciKit Learn library\n",
        "- Explain all setup, parameters and execution options you chose to set, and why.\n",
        "***"
      ]
    },
    {
      "cell_type": "code",
      "execution_count": null,
      "metadata": {
        "id": "14oWO8Ei7dWT"
      },
      "outputs": [],
      "source": [
        "from sklearn.model_selection import train_test_split\n",
        "\n",
        "#Using sampled data as with original dataset KNN classifier was taking too long to train the model\n",
        "X_train, X_test, y_train, y_test = train_test_split(X_sampled, y_sampled, test_size=0.33, random_state=42)"
      ]
    },
    {
      "cell_type": "markdown",
      "metadata": {
        "id": "ICKZsGlo7dWU"
      },
      "source": [
        "***\n",
        "## Section: 3.2 - Run and evaluate the classifier\n",
        "- Try several values of the K parameter and compare the results.\n",
        "- Evaluate the performance of the classifier, using the evaluation methods you defined above.\n",
        "***"
      ]
    },
    {
      "cell_type": "markdown",
      "source": [
        " ### K-nearest neighbors (KNN) with **default** parameter values\n",
        "\n",
        "\n",
        "*    n_neighbors: The number of neighbors to use. This is the k value in KNN. The default value is 5.\n"
      ],
      "metadata": {
        "id": "D-yeUdlhS7uB"
      }
    },
    {
      "cell_type": "code",
      "source": [
        "# Create KNN Classifer\n",
        "knn_clf = KNeighborsClassifier()"
      ],
      "metadata": {
        "id": "hOSquLOJT99D"
      },
      "execution_count": null,
      "outputs": []
    },
    {
      "cell_type": "code",
      "source": [
        "# Fit KNN Classifer\n",
        "knn_clf.fit(X_train, y_train)\n"
      ],
      "metadata": {
        "colab": {
          "base_uri": "https://localhost:8080/"
        },
        "id": "exGvnoJJUFpE",
        "outputId": "26ea038e-6122-48c2-bf49-0347695d8cf5"
      },
      "execution_count": null,
      "outputs": [
        {
          "output_type": "execute_result",
          "data": {
            "text/plain": [
              "KNeighborsClassifier()"
            ]
          },
          "metadata": {},
          "execution_count": 322
        }
      ]
    },
    {
      "cell_type": "code",
      "source": [
        "# Prediction for test dataset\n",
        "knn_pred = knn_clf.predict(X_test) "
      ],
      "metadata": {
        "id": "Y-mJ_42DUrTn"
      },
      "execution_count": null,
      "outputs": []
    },
    {
      "cell_type": "code",
      "source": [
        "knn_cm = confusion_matrix(y_test, knn_pred)\n",
        "print(knn_cm)"
      ],
      "metadata": {
        "colab": {
          "base_uri": "https://localhost:8080/"
        },
        "id": "e3pTrNtlUrWi",
        "outputId": "93c6d05c-d268-4555-8841-b0dead7e56c5"
      },
      "execution_count": null,
      "outputs": [
        {
          "output_type": "stream",
          "name": "stdout",
          "text": [
            "[[849 178]\n",
            " [295 328]]\n"
          ]
        }
      ]
    },
    {
      "cell_type": "code",
      "source": [
        "knn_accuracy_score = accuracy_score(y_test, knn_pred)\n",
        "print(knn_accuracy_score)"
      ],
      "metadata": {
        "colab": {
          "base_uri": "https://localhost:8080/"
        },
        "id": "8WpnwYzLUrjt",
        "outputId": "5c274fe1-df53-4a5b-dad9-646f1cc9b736"
      },
      "execution_count": null,
      "outputs": [
        {
          "output_type": "stream",
          "name": "stdout",
          "text": [
            "0.7133333333333334\n"
          ]
        }
      ]
    },
    {
      "cell_type": "code",
      "source": [
        "knn_recall = recall_score(y_test, knn_pred)\n",
        "print(knn_recall)"
      ],
      "metadata": {
        "colab": {
          "base_uri": "https://localhost:8080/"
        },
        "id": "sJq7HzTvU0QE",
        "outputId": "0be3626d-7aee-41bc-b51b-afb3feda9032"
      },
      "execution_count": null,
      "outputs": [
        {
          "output_type": "stream",
          "name": "stdout",
          "text": [
            "0.5264847512038523\n"
          ]
        }
      ]
    },
    {
      "cell_type": "code",
      "source": [
        "knn_precision_score = precision_score(y_test, knn_pred)\n",
        "print(knn_precision_score)"
      ],
      "metadata": {
        "colab": {
          "base_uri": "https://localhost:8080/"
        },
        "id": "-w1j52IxU0an",
        "outputId": "acc7799d-eac1-4267-9d20-d8ec2e6ea6b7"
      },
      "execution_count": null,
      "outputs": [
        {
          "output_type": "stream",
          "name": "stdout",
          "text": [
            "0.6482213438735178\n"
          ]
        }
      ]
    },
    {
      "cell_type": "code",
      "source": [
        "knn_total_cost = calculate_cost(knn_cm)\n",
        "print(knn_total_cost)"
      ],
      "metadata": {
        "colab": {
          "base_uri": "https://localhost:8080/"
        },
        "id": "Z7QlidlEU5wc",
        "outputId": "8e9e0e12-10f3-46e4-9dc6-74733b34eba9"
      },
      "execution_count": null,
      "outputs": [
        {
          "output_type": "stream",
          "name": "stdout",
          "text": [
            "57055\n"
          ]
        }
      ]
    },
    {
      "cell_type": "code",
      "source": [
        "# Add enrty to Classifier_performance\n",
        "Classifier_performance = Classifier_performance.append(pd.Series(['KNN_default', knn_accuracy_score, knn_recall, knn_precision_score, knn_total_cost], index = ['Classifier', 'Accuracy', 'Recall', 'Precision', 'Net Benefit']), ignore_index=True)\n",
        "print(Classifier_performance)"
      ],
      "metadata": {
        "colab": {
          "base_uri": "https://localhost:8080/"
        },
        "id": "CuCjbe2Qpl81",
        "outputId": "e8361045-12a6-4f87-c11f-0428e541299b"
      },
      "execution_count": null,
      "outputs": [
        {
          "output_type": "stream",
          "name": "stdout",
          "text": [
            "    Classifier  Accuracy   Recall  Precision Net Benefit\n",
            "0  KNN_default  0.690909  0.35313   0.672783       55160\n"
          ]
        }
      ]
    },
    {
      "cell_type": "markdown",
      "source": [
        "### K-nearest neighbors (KNN) with **configured** parameter values\n",
        "*   n_neighbors: It refers to the number of neighbors to consider when making a prediction for a new data point. Specifically, when we want to predict the label of a new data point, the KNN algorithm finds the k data points in the training set that are closest to the new data point, where k is the value of n_neighbors"
      ],
      "metadata": {
        "id": "CCHXTBmoEFKe"
      }
    },
    {
      "cell_type": "code",
      "execution_count": null,
      "metadata": {
        "colab": {
          "base_uri": "https://localhost:8080/"
        },
        "id": "zJBdMMYs7dWU",
        "outputId": "c12eed26-bef5-4580-b980-b5808f35a27f"
      },
      "outputs": [
        {
          "output_type": "stream",
          "name": "stdout",
          "text": [
            "    Neighbors  Accuracy    Recall  Precision  Net Benefit\n",
            "0         1.0  0.710909  0.582665   0.625862      56150.0\n",
            "1         2.0  0.724242  0.383628   0.770968      60100.0\n",
            "2         3.0  0.726061  0.537721   0.671343      58945.0\n",
            "3         4.0  0.716364  0.412520   0.715877      58595.0\n",
            "4         5.0  0.713333  0.526485   0.648221      57055.0\n",
            "5         6.0  0.716364  0.423756   0.707775      58490.0\n",
            "6         7.0  0.709091  0.499197   0.649269      56645.0\n",
            "7         8.0  0.716970  0.422151   0.710811      58600.0\n",
            "8         9.0  0.703030  0.462279   0.650113      56040.0\n",
            "9        10.0  0.707273  0.394864   0.698864      57335.0\n",
            "10       11.0  0.695758  0.441413   0.641026      55095.0\n",
            "11       12.0  0.705455  0.380417   0.703264      57185.0\n",
            "12       13.0  0.701818  0.430177   0.661728      56150.0\n",
            "13       14.0  0.700606  0.361156   0.700935      56605.0\n",
            "14       15.0  0.697576  0.409310   0.660622      55680.0\n",
            "15       16.0  0.690909  0.351525   0.673846      55175.0\n",
            "16       17.0  0.687879  0.391653   0.642105      54325.0\n",
            "17       18.0  0.683636  0.338684   0.657321      54155.0\n",
            "18       19.0  0.688485  0.385233   0.646900      54480.0\n",
            "19       20.0  0.690909  0.353130   0.672783      55160.0\n"
          ]
        }
      ],
      "source": [
        "knn_df = pd.DataFrame(columns = ['Neighbors', 'Accuracy', 'Recall', 'Precision', 'Net Benefit'])\n",
        "for i in range(1,21):\n",
        "    knn_clf = KNeighborsClassifier(n_neighbors= i)\n",
        "    knn_clf.fit(X_train, y_train)\n",
        "    knn_pred = knn_clf.predict(X_test) \n",
        "    knn_cm = confusion_matrix(y_test, knn_pred)\n",
        "    knn_accuracy_score = accuracy_score(y_test, knn_pred)\n",
        "    knn_recall = recall_score(y_test, knn_pred)\n",
        "    knn_precision_score = precision_score(y_test, knn_pred)\n",
        "    knn_total_cost = calculate_cost(knn_cm)\n",
        "    list_vals = [i, knn_accuracy_score,  knn_recall, knn_precision_score, knn_total_cost]\n",
        "    knn_df = knn_df.append(pd.Series(list_vals, index = ['Neighbors', 'Accuracy', 'Recall', 'Precision', 'Net Benefit']), ignore_index=True)\n",
        "    \n",
        "print(knn_df)"
      ]
    },
    {
      "cell_type": "code",
      "source": [
        "k_values = knn_df['Neighbors']\n",
        "recall = knn_df['Recall']\n",
        "precision = knn_df['Precision']\n",
        "accuracy = knn_df['Accuracy']\n",
        "\n",
        "# Setting figure size\n",
        "plt.figure(figsize=(8,6))\n",
        "\n",
        "# Plotting\n",
        "plt.plot(k_values, recall, label='Recall')\n",
        "plt.plot(k_values, precision, label='Precision')\n",
        "plt.plot(k_values, accuracy, label='Accuracy')\n",
        "plt.xticks(np.arange(21))\n",
        "\n",
        "# Setting title, labels and legend\n",
        "plt.title('KNN Classifier Performance')\n",
        "plt.xlabel('n_neighbors value for KNN')\n",
        "plt.ylabel('Score')\n",
        "plt.legend()\n",
        "\n",
        "# Showing the plot\n",
        "plt.show()"
      ],
      "metadata": {
        "colab": {
          "base_uri": "https://localhost:8080/",
          "height": 405
        },
        "id": "5zRia-L3VIh9",
        "outputId": "d8a57993-6423-4e8a-ecde-d1a86a1af9e5"
      },
      "execution_count": null,
      "outputs": [
        {
          "output_type": "display_data",
          "data": {
            "text/plain": [
              "<Figure size 576x432 with 1 Axes>"
            ],
            "image/png": "[encoded data removed]"
          },
          "metadata": {
            "needs_background": "light"
          }
        }
      ]
    },
    {
      "cell_type": "markdown",
      "source": [
        "I decided to choose n_neighbour value as 3. As we can see in the above figure we are getting good recall and accuracy values. I choose recall over precision as we can afford wrongly predecting risk of prediction as true rather than false. More details have already provided in above section."
      ],
      "metadata": {
        "id": "QTgvvNcNqMX8"
      }
    },
    {
      "cell_type": "code",
      "source": [
        "filtered_knn_df = knn_df.query('Neighbors == 3').loc[:, ['Neighbors', 'Accuracy', 'Recall', 'Precision', 'Net Benefit']]\n",
        "\n",
        "performance_entry = ['KNN_with_3_neighbour', filtered_knn_df.iloc[0,1], filtered_knn_df.iloc[0,2], filtered_knn_df.iloc[0,3], filtered_knn_df.iloc[0,4]]\n",
        "print(performance_entry)"
      ],
      "metadata": {
        "colab": {
          "base_uri": "https://localhost:8080/"
        },
        "id": "qUFjtkS9tLI2",
        "outputId": "355485bd-9cbc-405e-b01c-c85fe0a3ffc8"
      },
      "execution_count": null,
      "outputs": [
        {
          "output_type": "stream",
          "name": "stdout",
          "text": [
            "['KNN_with_3_neighbour', 0.7260606060606061, 0.5377207062600321, 0.6713426853707415, 58945.0]\n"
          ]
        }
      ]
    },
    {
      "cell_type": "code",
      "source": [
        "Classifier_performance = Classifier_performance.append(pd.Series(performance_entry, index = ['Classifier', 'Accuracy', 'Recall', 'Precision', 'Net Benefit']), ignore_index=True)\n",
        "print(Classifier_performance)"
      ],
      "metadata": {
        "colab": {
          "base_uri": "https://localhost:8080/"
        },
        "id": "3TcRBBSeszm0",
        "outputId": "789e4fca-412e-4f67-934f-dfa2829236ce"
      },
      "execution_count": null,
      "outputs": [
        {
          "output_type": "stream",
          "name": "stdout",
          "text": [
            "             Classifier  Accuracy    Recall  Precision Net Benefit\n",
            "0           KNN_default  0.690909  0.353130   0.672783       55160\n",
            "1  KNN_with_3_neighbour  0.726061  0.537721   0.671343     58945.0\n"
          ]
        }
      ]
    },
    {
      "cell_type": "markdown",
      "metadata": {
        "id": "t0KzJzxJ7dWU"
      },
      "source": [
        "***\n",
        "## Section: 3.3 - Evaluate the choice of the KNN classifier\n",
        "- What characteristics of the problem and data made KNN a good or bad choice?\n",
        "***"
      ]
    },
    {
      "cell_type": "markdown",
      "source": [
        "\n",
        "\n",
        "**General Characteristics of KNN**\n",
        "\n",
        "* KNN is generally good for small to medium-sized datasets.\n",
        "* When the problem is multi-class classification and the classes are well-separated, KNN can perform well.\n",
        "* KNN can also be effective in problems where the training data is highly imbalanced, as it can adapt to the minority class better than other algorithms.\n",
        "* KNN can be computationally expensive and slow when working with large datasets or high-dimensional feature spaces.\n",
        "* When the decision boundary is linear or nearly linear, KNN may not perform well.\n",
        "* KNN is sensitive to irrelevant features, so if the dataset has many irrelevant features, it may not be a good choice.\n",
        "KNN does not work well with missing values, so if the dataset has many missing values, KNN may not be a good choice.\n",
        "\n",
        "**Anaysis of given problem and data for KNN**\n",
        "* As we have unbalanced dataset , KNN can work well.\n",
        "* On the other hand, as given dataset is very large, choosing KNN as a classifier model can cause computational resourses and training time. Moreover, as KNN is sensitive to irrelevant features and given dataset has irrelevant attributes where we are unaware of correct attribute choice, KNN may not give good performance.\n",
        "\n"
      ],
      "metadata": {
        "id": "BNHxF-EVxxdI"
      }
    },
    {
      "cell_type": "code",
      "execution_count": null,
      "metadata": {
        "id": "W6EauRCV7dWU"
      },
      "outputs": [],
      "source": []
    },
    {
      "cell_type": "markdown",
      "metadata": {
        "id": "jTGeGfpW7dWU"
      },
      "source": [
        "***\n",
        "# Section: 4 - Evaluation of Off-The-Shelf Classifier #2\n",
        "- As with the KNN classifier above, choose another classifier from the SciKit Learn library (Decision Tree, SVM, Logistic Regression, etc.) and run it on the dataset.\n",
        "***"
      ]
    },
    {
      "cell_type": "markdown",
      "metadata": {
        "id": "1xeB6hiA7dWV"
      },
      "source": [
        "***\n",
        "## Section: 4.1 - Configure the classifier\n",
        "- Use the appropriate classifier from the SciKit Learn library.\n",
        "- Explain all setup, parameters and execution options you chose to set, and why.\n",
        "***"
      ]
    },
    {
      "cell_type": "code",
      "execution_count": null,
      "metadata": {
        "id": "KdTSZhuh7dWV"
      },
      "outputs": [],
      "source": [
        "X_train, X_test, y_train, y_test = train_test_split(X, y, test_size=0.33, random_state=42)"
      ]
    },
    {
      "cell_type": "code",
      "source": [
        "from sklearn.tree import DecisionTreeClassifier"
      ],
      "metadata": {
        "id": "mg3yujUKD_SO"
      },
      "execution_count": null,
      "outputs": []
    },
    {
      "cell_type": "markdown",
      "metadata": {
        "id": "B4jQquAP7dWV"
      },
      "source": [
        "***\n",
        "## Section: 4.2 - Run and evaluate the classifier\n",
        "- Try several values of the parameters (if appropriate) and compare the results.\n",
        "- Evaluate the performance of the classifier, using the evaluation methods you defined above.\n",
        "***"
      ]
    },
    {
      "cell_type": "markdown",
      "source": [
        "### Decision Tree Classifier with **default** parameter values"
      ],
      "metadata": {
        "id": "Rj3m08S7WsF7"
      }
    },
    {
      "cell_type": "code",
      "source": [
        "# Create Decision Tree Classifier\n",
        "decision_tree_clf = DecisionTreeClassifier()"
      ],
      "metadata": {
        "id": "d7ZKbXZLDHVQ"
      },
      "execution_count": null,
      "outputs": []
    },
    {
      "cell_type": "code",
      "source": [
        "# Fit Decision Tree Classifer\n",
        "decision_tree_clf = decision_tree_clf.fit(X_train,y_train)"
      ],
      "metadata": {
        "id": "y41ICqkv0M5I"
      },
      "execution_count": null,
      "outputs": []
    },
    {
      "cell_type": "code",
      "source": [
        "# Prediction for test dataset\n",
        "decision_tree_pred = decision_tree_clf.predict(X_test) "
      ],
      "metadata": {
        "id": "f63XpoVX0Qp6"
      },
      "execution_count": null,
      "outputs": []
    },
    {
      "cell_type": "code",
      "source": [
        "decision_tree_cm = confusion_matrix(y_test, decision_tree_pred)\n",
        "print(\"Confusion Matrix:\", decision_tree_cm)"
      ],
      "metadata": {
        "colab": {
          "base_uri": "https://localhost:8080/"
        },
        "id": "LIf3cqRa0TRz",
        "outputId": "9f3d76ff-0343-4f43-e919-fff4d3e655a5"
      },
      "execution_count": null,
      "outputs": [
        {
          "output_type": "stream",
          "name": "stdout",
          "text": [
            "Confusion Matrix: [[892 135]\n",
            " [245 378]]\n"
          ]
        }
      ]
    },
    {
      "cell_type": "code",
      "source": [
        "decision_tree_accuracy_score = accuracy_score(y_test, decision_tree_pred)\n",
        "print('Accuracy:', decision_tree_accuracy_score)"
      ],
      "metadata": {
        "colab": {
          "base_uri": "https://localhost:8080/"
        },
        "id": "PevEbu3q0VBE",
        "outputId": "9b8db9ad-68fe-4c63-9ae5-31d21f39d75e"
      },
      "execution_count": null,
      "outputs": [
        {
          "output_type": "stream",
          "name": "stdout",
          "text": [
            "Accuracy: 0.7696969696969697\n"
          ]
        }
      ]
    },
    {
      "cell_type": "code",
      "source": [
        "decision_tree_recall = recall_score(y_test, decision_tree_pred)\n",
        "print(\"Recall Score: \", decision_tree_recall)"
      ],
      "metadata": {
        "colab": {
          "base_uri": "https://localhost:8080/"
        },
        "id": "cZgpjoMv0Z7I",
        "outputId": "9bb08cff-2a2a-4375-c6ac-21846032bf24"
      },
      "execution_count": null,
      "outputs": [
        {
          "output_type": "stream",
          "name": "stdout",
          "text": [
            "Recall Score:  0.6067415730337079\n"
          ]
        }
      ]
    },
    {
      "cell_type": "code",
      "source": [
        "decision_tree_precision_score = precision_score(y_test, decision_tree_pred)\n",
        "print('Precision Score:', decision_tree_precision_score)"
      ],
      "metadata": {
        "colab": {
          "base_uri": "https://localhost:8080/"
        },
        "id": "Mf2uno8g0c5B",
        "outputId": "1912d8c6-caa4-4a8e-dd97-88809f87f4b2"
      },
      "execution_count": null,
      "outputs": [
        {
          "output_type": "stream",
          "name": "stdout",
          "text": [
            "Precision Score: 0.7368421052631579\n"
          ]
        }
      ]
    },
    {
      "cell_type": "code",
      "source": [
        "decision_tree_total_cost = calculate_cost(decision_tree_cm)\n",
        "print(\"Net Benefit :\", decision_tree_total_cost)"
      ],
      "metadata": {
        "colab": {
          "base_uri": "https://localhost:8080/"
        },
        "id": "cpJAg9h-0dYg",
        "outputId": "9fccdca9-5ae8-4e46-bbcc-5803e581bf3f"
      },
      "execution_count": null,
      "outputs": [
        {
          "output_type": "stream",
          "name": "stdout",
          "text": [
            "Net Benefit : 65140\n"
          ]
        }
      ]
    },
    {
      "cell_type": "code",
      "source": [
        "# Add enrty to Classifier_performance\n",
        "Classifier_performance = Classifier_performance.append(pd.Series(['Decision Tree Classifier', decision_tree_accuracy_score, decision_tree_recall, decision_tree_precision_score, decision_tree_total_cost], index = ['Classifier', 'Accuracy', 'Recall', 'Precision', 'Net Benefit']), ignore_index=True)\n",
        "print(Classifier_performance)"
      ],
      "metadata": {
        "colab": {
          "base_uri": "https://localhost:8080/"
        },
        "id": "_Tk-89Ig0sR9",
        "outputId": "728fbcab-9988-4276-ba6a-59e282f4374d"
      },
      "execution_count": null,
      "outputs": [
        {
          "output_type": "stream",
          "name": "stdout",
          "text": [
            "                 Classifier  Accuracy    Recall  Precision Net Benefit\n",
            "0               KNN_default  0.690909  0.353130   0.672783       55160\n",
            "1      KNN_with_3_neighbour  0.726061  0.537721   0.671343     58945.0\n",
            "2  Decision Tree Classifier  0.763636  0.552167   0.756044       64700\n"
          ]
        }
      ]
    },
    {
      "cell_type": "markdown",
      "source": [
        "### Decision Tree Classifier with **configured** max_depth parameter values"
      ],
      "metadata": {
        "id": "FyIAmZ0-DHqJ"
      }
    },
    {
      "cell_type": "code",
      "source": [
        "decision_tree_df = pd.DataFrame(columns = ['Max Depth', 'Accuracy', 'Recall', 'Precision', 'Net Benefit'])\n",
        "for i in range(1,21):\n",
        "    decision_tree_clf = tree.DecisionTreeClassifier(max_depth=i, criterion='entropy', max_features='auto')\n",
        "    decision_tree_clf.fit(X_train, y_train)\n",
        "    decision_tree_pred = decision_tree_clf.predict(X_test) \n",
        "    decision_tree_cm = confusion_matrix(y_test, decision_tree_pred)\n",
        "    decision_tree_accuracy_score = accuracy_score(y_test, decision_tree_pred)\n",
        "    decision_tree_recall = recall_score(y_test, decision_tree_pred)\n",
        "    decision_tree_precision_score = precision_score(y_test, decision_tree_pred)\n",
        "    decision_tree_total_cost = calculate_cost(decision_tree_cm)\n",
        "    list_vals = [i, decision_tree_accuracy_score,  decision_tree_recall, decision_tree_precision_score, decision_tree_total_cost]\n",
        "    decision_tree_df = decision_tree_df.append(pd.Series(list_vals, index = ['Max Depth', 'Accuracy', 'Recall', 'Precision', 'Net Benefit']), ignore_index=True)\n",
        "    \n",
        "print(decision_tree_df)"
      ],
      "metadata": {
        "colab": {
          "base_uri": "https://localhost:8080/"
        },
        "id": "j7IoQ-SNBQa5",
        "outputId": "8f76a1a0-c2cc-4954-c479-253dbf251b80"
      },
      "execution_count": null,
      "outputs": [
        {
          "output_type": "stream",
          "name": "stdout",
          "text": [
            "    Max Depth  Accuracy    Recall  Precision  Net Benefit\n",
            "0         1.0  0.743030  0.319422   1.000000      63645.0\n",
            "1         2.0  0.621818  0.001605   0.333333      47615.0\n",
            "2         3.0  0.621818  0.000000   0.000000      47630.0\n",
            "3         4.0  0.624242  0.004815   1.000000      47965.0\n",
            "4         5.0  0.656364  0.269663   0.600000      50525.0\n",
            "5         6.0  0.635152  0.043339   0.818182      49315.0\n",
            "6         7.0  0.700606  0.239165   0.881657      57745.0\n",
            "7         8.0  0.656364  0.271268   0.599291      50510.0\n",
            "8         9.0  0.688485  0.304976   0.701107      55230.0\n",
            "9        10.0  0.739394  0.322632   0.961722      63045.0\n",
            "10       11.0  0.656970  0.711075   0.534379      46495.0\n",
            "11       12.0  0.715758  0.373997   0.746795      58860.0\n",
            "12       13.0  0.681818  0.181380   0.882812      55340.0\n",
            "13       14.0  0.743030  0.338684   0.946188      63465.0\n",
            "14       15.0  0.727273  0.402889   0.762918      60395.0\n",
            "15       16.0  0.759394  0.566613   0.735417      63900.0\n",
            "16       17.0  0.750303  0.348315   0.973094      64515.0\n",
            "17       18.0  0.754545  0.370787   0.946721      64970.0\n",
            "18       19.0  0.756970  0.373997   0.954918      65320.0\n",
            "19       20.0  0.763636  0.552167   0.756044      64700.0\n"
          ]
        }
      ]
    },
    {
      "cell_type": "code",
      "source": [
        "## Plot a graph to compare performance of decision tree classifier with respect to different max_depth values\n",
        "\n",
        "depth_values = decision_tree_df['Max Depth']\n",
        "recall = decision_tree_df['Recall']\n",
        "precision = decision_tree_df['Precision']\n",
        "accuracy = decision_tree_df['Accuracy']\n",
        "\n",
        "# Setting figure size\n",
        "plt.figure(figsize=(8,6))\n",
        "\n",
        "# Plotting\n",
        "plt.plot(depth_values, recall, label='Recall')\n",
        "plt.plot(depth_values, precision, label='Precision')\n",
        "plt.plot(depth_values, accuracy, label='Accuracy')\n",
        "plt.xticks(np.arange(21))\n",
        "\n",
        "# Setting title, labels and legend\n",
        "plt.title('Decision tree Performance')\n",
        "plt.xlabel('Depth of the tree')\n",
        "plt.ylabel('Score')\n",
        "plt.legend()\n",
        "\n",
        "# Showing the plot\n",
        "plt.show()\n",
        "\n"
      ],
      "metadata": {
        "colab": {
          "base_uri": "https://localhost:8080/",
          "height": 404
        },
        "id": "ayyQivRgIxCN",
        "outputId": "16203306-19fa-4e85-ee49-3dfd8de57cf9"
      },
      "execution_count": null,
      "outputs": [
        {
          "output_type": "display_data",
          "data": {
            "text/plain": [
              "<Figure size 576x432 with 1 Axes>"
            ],
            "image/png": "[encoded data removed]"
          },
          "metadata": {
            "needs_background": "light"
          }
        }
      ]
    },
    {
      "cell_type": "markdown",
      "source": [
        "* By observing above figure, we can conclude that decision tree with default configurations of max_depth parameter is performing better than configured value. Recall for configured max_depth is ~0.40 which is less than decision tree model with default configuration. Moreover the accuracy for default configurations is better than configured values."
      ],
      "metadata": {
        "id": "Ggl2U-gP1fsC"
      }
    },
    {
      "cell_type": "code",
      "source": [],
      "metadata": {
        "id": "C2OmDx-IYCsn"
      },
      "execution_count": null,
      "outputs": []
    },
    {
      "cell_type": "markdown",
      "metadata": {
        "id": "V1OTD5R57dWV"
      },
      "source": [
        "***\n",
        "## Section: 4.3 - Evaluate the choice of the classifier\n",
        "- What characteristics of the problem and data made the classifier a good or bad choice?\n",
        "***"
      ]
    },
    {
      "cell_type": "markdown",
      "source": [
        "\n",
        "\n",
        "**General Characteristics of Decision Tree Classifier**\n",
        "\n",
        "* Decision trees are good when the data contains categorical variables or features with discrete values.\n",
        "* Decision trees are also good when there are nonlinear relationships between the features and the target variable.\n",
        "* Decision trees can easily overfit the data, particularly when the tree is deep and complex. This can lead to poor generalization and low accuracy on new data.\n",
        "* They may not perform well when the data has continuous features, as decision trees typically partition the feature space into regions with discrete boundaries.\n",
        "* Decision trees can be sensitive to noise and outliers in the data, which can lead to suboptimal splits and poor accuracy.\n",
        "They can be computationally expensive and slow when working with large datasets or high-dimensional feature spaces.\n",
        "\n",
        "**Anaysis of given problem and data for Decision Tree Classifier**\n",
        "* As we have categorical variables or discrete value features in given dataset , this classifier can perform well.\n",
        "* On the other hand, as given dataset is very large, choosing Decision Tree Classifier as a classifier model can cause computational resourses and training time. Moreover, depth of the tree needs to be choosen carefully to avoid overfitting.\n",
        "\n"
      ],
      "metadata": {
        "id": "QBNJBfxl2ozb"
      }
    },
    {
      "cell_type": "code",
      "source": [],
      "metadata": {
        "id": "hIbebnOO9Y4L"
      },
      "execution_count": null,
      "outputs": []
    },
    {
      "cell_type": "markdown",
      "metadata": {
        "id": "Js7udf1b7dWV"
      },
      "source": [
        "***\n",
        "# Section: 5 - Evaluation of Off-The-Shelf Classifier #3\n",
        "- As with the KNN classifier above, choose another classifier from the SciKit Learn library (Decision Tree, SVM, Logistic Regression, etc.) and run it on the dataset.\n",
        "***"
      ]
    },
    {
      "cell_type": "markdown",
      "metadata": {
        "id": "wScY7sCX7dWW"
      },
      "source": [
        "***\n",
        "## Section: 5.1 - Configure the classifier\n",
        "- Use the appropriate classifier from the SciKit Learn library.\n",
        "- Explain all setup, parameters and execution options you chose to set, and why.\n",
        "***"
      ]
    },
    {
      "cell_type": "code",
      "source": [
        "#Using sampled data as with original dataset KNN classifier was taking too long to train the model\n",
        "X_train, X_test, y_train, y_test = train_test_split(X_sampled, y_sampled, test_size=0.33, random_state=42)"
      ],
      "metadata": {
        "id": "WkoNf7BAL83z"
      },
      "execution_count": null,
      "outputs": []
    },
    {
      "cell_type": "code",
      "execution_count": null,
      "metadata": {
        "id": "pQubAvsw7dWW"
      },
      "outputs": [],
      "source": [
        "from sklearn.ensemble import RandomForestClassifier"
      ]
    },
    {
      "cell_type": "markdown",
      "metadata": {
        "id": "j618GlZY7dWW"
      },
      "source": [
        "***\n",
        "## Section: 5.2 - Run and evaluate the classifier\n",
        "- Try several values of the parameters (if appropriate) and compare the results.\n",
        "- Evaluate the performance of the classifier, using the evaluation methods you defined above.\n",
        "***"
      ]
    },
    {
      "cell_type": "markdown",
      "source": [
        "###Random Forest Classifier with **default** parameter values\n",
        "*   n_estimators: The default value for n_estimators parameter in scikit-learn's RandomForestClassifier is 100, which means that 100 decision trees will be created and used to make predictions.\n",
        "\n",
        "*   n_depth: The default value for max_depth parameter is None, which means that the decision trees will be expanded until all leaves are pure (i.e., all samples in each leaf belong to the same class) or until all leaves contain less than min_samples_split samples"
      ],
      "metadata": {
        "id": "ft0UWh3VONMJ"
      }
    },
    {
      "cell_type": "code",
      "source": [
        "# Create Random Forest classifer \n",
        "random_forest_clf = RandomForestClassifier()"
      ],
      "metadata": {
        "id": "Wj_A01hTOKdA"
      },
      "execution_count": null,
      "outputs": []
    },
    {
      "cell_type": "code",
      "execution_count": null,
      "metadata": {
        "colab": {
          "base_uri": "https://localhost:8080/"
        },
        "id": "MINc67_67dWW",
        "outputId": "c49420fb-9f5a-40c0-ca3a-e4fe574a14e6"
      },
      "outputs": [
        {
          "output_type": "execute_result",
          "data": {
            "text/plain": [
              "RandomForestClassifier()"
            ]
          },
          "metadata": {},
          "execution_count": 233
        }
      ],
      "source": [
        "# Fit Random Forest Classifer\n",
        "random_forest_clf.fit(X_train,y_train)"
      ]
    },
    {
      "cell_type": "code",
      "source": [
        "# Prediction for test dataset\n",
        "random_forest_pred = random_forest_clf.predict(X_test) "
      ],
      "metadata": {
        "id": "9zwijzRiMF61"
      },
      "execution_count": null,
      "outputs": []
    },
    {
      "cell_type": "code",
      "source": [
        "random_forest_cm = confusion_matrix(y_test, random_forest_pred)\n",
        "print(random_forest_cm)"
      ],
      "metadata": {
        "colab": {
          "base_uri": "https://localhost:8080/"
        },
        "id": "_JWkWDoMMIGx",
        "outputId": "332c21e6-3362-423e-b4f6-b07e6addda21"
      },
      "execution_count": null,
      "outputs": [
        {
          "output_type": "stream",
          "name": "stdout",
          "text": [
            "[[942  85]\n",
            " [265 358]]\n"
          ]
        }
      ]
    },
    {
      "cell_type": "code",
      "source": [
        "random_forest_accuracy_score = accuracy_score(y_test, random_forest_pred)\n",
        "print('Accuracy:', random_forest_accuracy_score)"
      ],
      "metadata": {
        "colab": {
          "base_uri": "https://localhost:8080/"
        },
        "id": "WtRRM2YEMLLZ",
        "outputId": "e5a5f66f-9503-4f7b-a8aa-3624fed14d2f"
      },
      "execution_count": null,
      "outputs": [
        {
          "output_type": "stream",
          "name": "stdout",
          "text": [
            "Accuracy: 0.7878787878787878\n"
          ]
        }
      ]
    },
    {
      "cell_type": "code",
      "source": [
        "random_forest_recall_score = recall_score(y_test, random_forest_pred)\n",
        "print(random_forest_recall_score)"
      ],
      "metadata": {
        "colab": {
          "base_uri": "https://localhost:8080/"
        },
        "id": "_TsTM5BWMOO_",
        "outputId": "b36be051-f284-44f6-e301-b249a619838e"
      },
      "execution_count": null,
      "outputs": [
        {
          "output_type": "stream",
          "name": "stdout",
          "text": [
            "0.5746388443017657\n"
          ]
        }
      ]
    },
    {
      "cell_type": "code",
      "source": [
        "random_forest_precision_score = precision_score(y_test, random_forest_pred)\n",
        "print(random_forest_precision_score)"
      ],
      "metadata": {
        "colab": {
          "base_uri": "https://localhost:8080/"
        },
        "id": "eXJdhiX_gpFn",
        "outputId": "db27e1cf-5137-47a9-bbdb-37b30d698d5b"
      },
      "execution_count": null,
      "outputs": [
        {
          "output_type": "stream",
          "name": "stdout",
          "text": [
            "0.8081264108352144\n"
          ]
        }
      ]
    },
    {
      "cell_type": "code",
      "source": [
        "random_forest_total_cost = calculate_cost(random_forest_cm)\n",
        "print(random_forest_total_cost)"
      ],
      "metadata": {
        "colab": {
          "base_uri": "https://localhost:8080/"
        },
        "id": "ftWZdgg8MWuq",
        "outputId": "c7b991fb-f004-4efb-b6d0-46dd9068ef8e"
      },
      "execution_count": null,
      "outputs": [
        {
          "output_type": "stream",
          "name": "stdout",
          "text": [
            "68290\n"
          ]
        }
      ]
    },
    {
      "cell_type": "code",
      "source": [
        "# Add enrty to Classifier_performance\n",
        "Classifier_performance = Classifier_performance.append(pd.Series(['Random Forest Classifier', random_forest_accuracy_score, random_forest_recall, random_forest_precision_score, random_forest_total_cost], index = ['Classifier', 'Accuracy', 'Recall', 'Precision', 'Net Benefit']), ignore_index=True)\n",
        "print(Classifier_performance)"
      ],
      "metadata": {
        "colab": {
          "base_uri": "https://localhost:8080/"
        },
        "id": "wBNP7aXs7D_s",
        "outputId": "af685605-d322-4ce4-c66d-4864af3e2e4e"
      },
      "execution_count": null,
      "outputs": [
        {
          "output_type": "stream",
          "name": "stdout",
          "text": [
            "                 Classifier  Accuracy    Recall  Precision Net Benefit\n",
            "0               KNN_default  0.690909  0.353130   0.672783       55160\n",
            "1      KNN_with_3_neighbour  0.726061  0.537721   0.671343     58945.0\n",
            "2  Decision Tree Classifier  0.763636  0.552167   0.756044       64700\n",
            "3  Random Forest Classifier  0.762424  0.377207   0.983264       66145\n"
          ]
        }
      ]
    },
    {
      "cell_type": "markdown",
      "source": [
        "###Random Forest Classifier with **configured** n_estimators and max_depth parameter values\n",
        "*   n_estimators: This parameter specifies the number of decision trees in the Random Forest. Increasing the number of trees improves the accuracy of the model, but also increases the training time.\n",
        "*   max_depth: This parameter specifies the maximum depth of each decision tree in the Random Forest. Increasing the depth of the trees allows the model to capture more complex relationships in the data, but also increases the risk of overfitting.\n",
        "\n"
      ],
      "metadata": {
        "id": "chuuJ73COnXt"
      }
    },
    {
      "cell_type": "code",
      "source": [
        "random_forest_df = pd.DataFrame(columns = ['Tree_count', 'Max_depth', 'Accuracy', 'Recall', 'Precision', 'Net Benefit'])\n",
        "for e in [50, 80, 100, 120]:\n",
        "  for d in range(1, 21):\n",
        "    random_forest_clf = RandomForestClassifier(n_estimators=e, criterion='entropy', max_depth=d)\n",
        "    random_forest_clf.fit(X_train, y_train)\n",
        "    random_forest_pred = random_forest_clf.predict(X_test) \n",
        "    random_forest_cm = confusion_matrix(y_test, random_forest_pred)\n",
        "    random_forest_accuracy_score = accuracy_score(y_test, random_forest_pred)\n",
        "    random_forest_recall = recall_score(y_test, random_forest_pred)\n",
        "    random_forest_precision_score = precision_score(y_test, random_forest_pred, zero_division=1)\n",
        "    random_forest_total_cost = calculate_cost(random_forest_cm)\n",
        "    list_vals = [e, d, random_forest_accuracy_score,  random_forest_recall, random_forest_precision_score, random_forest_total_cost]\n",
        "    random_forest_df = random_forest_df.append(pd.Series(list_vals, index = ['Tree_count', 'Max_depth', 'Accuracy', 'Recall', 'Precision', 'Net Benefit']), ignore_index=True)"
      ],
      "metadata": {
        "colab": {
          "base_uri": "https://localhost:8080/"
        },
        "id": "3__Cm6TONFsd",
        "outputId": "a69a7003-aaad-45f3-ad2b-7480b66daecc"
      },
      "execution_count": null,
      "outputs": [
        {
          "output_type": "stream",
          "name": "stdout",
          "text": [
            "   Tree_count  Max_depth  Accuracy    Recall  Precision  Net Benefit\n",
            "0        50.0        1.0  0.622424  0.000000        1.0      47725.0\n",
            "1        50.0        2.0  0.700606  0.207063        1.0      58045.0\n",
            "2        50.0        3.0  0.730909  0.287319        1.0      62045.0\n",
            "3        50.0        4.0  0.739394  0.309791        1.0      63165.0\n",
            "4        50.0        5.0  0.744242  0.322632        1.0      63805.0\n"
          ]
        }
      ]
    },
    {
      "cell_type": "code",
      "source": [
        "print(random_forest_df.describe())"
      ],
      "metadata": {
        "colab": {
          "base_uri": "https://localhost:8080/"
        },
        "id": "NWXOnL38n7QA",
        "outputId": "1786afed-eaf5-456b-c19d-d37dd648ed74"
      },
      "execution_count": null,
      "outputs": [
        {
          "output_type": "stream",
          "name": "stdout",
          "text": [
            "       Tree_count  Max_depth   Accuracy     Recall  Precision   Net Benefit\n",
            "count   80.000000  80.000000  80.000000  80.000000  80.000000     80.000000\n",
            "mean    87.500000  10.500000   0.740000   0.312159   0.997940  63237.875000\n",
            "std     26.023359   5.802662   0.036587   0.097317   0.004472   4825.695711\n",
            "min     50.000000   1.000000   0.622424   0.000000   0.979675  47725.000000\n",
            "25%     72.500000   5.750000   0.744242   0.322632   1.000000  63801.250000\n",
            "50%     90.000000  10.500000   0.752727   0.345104   1.000000  64925.000000\n",
            "75%    105.000000  15.250000   0.755758   0.353130   1.000000  65283.750000\n",
            "max    120.000000  20.000000   0.766667   0.386838   1.000000  66720.000000\n"
          ]
        }
      ]
    },
    {
      "cell_type": "code",
      "source": [
        "columns = ['Tree_count', 'Max_depth', 'Accuracy', 'Recall', 'Precision', 'Net Benefit']\n",
        "\n",
        "# Define the ranges of the hyperparameters to plot\n",
        "tree_counts = sorted(random_forest_df['Tree_count'].unique())\n",
        "max_depths = sorted(random_forest_df['Max_depth'].unique())\n",
        "\n",
        "# Define the colors and markers for each metric\n",
        "colors = ['r', 'g', 'b', 'y']\n",
        "markers = ['o', '^', 's', '+']\n",
        "\n",
        "# Create a line plot and scatter plot for each evaluation metric\n",
        "for i, metric in enumerate(columns[2:]):\n",
        "    fig, ax = plt.subplots(figsize=(10, 6))\n",
        "\n",
        "    # Plot the data as a line plot\n",
        "    for j, tree_count in enumerate(tree_counts):\n",
        "        df_sub = random_forest_df[random_forest_df['Tree_count'] == tree_count]\n",
        "        ax.plot(df_sub['Max_depth'], df_sub[metric], color=colors[j], label=f'Tree Count = {tree_count}')\n",
        "        plt.xticks(np.arange(21))\n",
        "    \n",
        "    # Plot the data as a scatter plot\n",
        "    for j, tree_count in enumerate(tree_counts):\n",
        "        df_sub = random_forest_df[random_forest_df['Tree_count'] == tree_count]\n",
        "        ax.scatter(df_sub['Max_depth'], df_sub[metric], color=colors[j], marker=markers[j])\n",
        "        plt.xticks(np.arange(21))\n",
        "    \n",
        "    # Set the plot title and axis labels\n",
        "    ax.set_title(f'{metric} vs. Max Depth')\n",
        "    ax.set_xlabel('Max Depth')\n",
        "    ax.set_ylabel(metric)\n",
        "\n",
        "    # Set the legend\n",
        "    ax.legend()\n",
        "\n",
        "    # Show the plot\n",
        "    plt.show()"
      ],
      "metadata": {
        "colab": {
          "base_uri": "https://localhost:8080/",
          "height": 1000
        },
        "id": "t8NohU2nc9pY",
        "outputId": "86b48639-1a1c-49b6-e6aa-d256d42e4c22"
      },
      "execution_count": null,
      "outputs": [
        {
          "output_type": "display_data",
          "data": {
            "text/plain": [
              "<Figure size 720x432 with 1 Axes>"
            ],
            "image/png": "[encoded data removed]"
          },
          "metadata": {
            "needs_background": "light"
          }
        },
        {
          "output_type": "display_data",
          "data": {
            "text/plain": [
              "<Figure size 720x432 with 1 Axes>"
            ],
            "image/png": "[encoded data removed]"
          },
          "metadata": {
            "needs_background": "light"
          }
        },
        {
          "output_type": "display_data",
          "data": {
            "text/plain": [
              "<Figure size 720x432 with 1 Axes>"
            ],
            "image/png": "[encoded data removed]"
          },
          "metadata": {
            "needs_background": "light"
          }
        },
        {
          "output_type": "display_data",
          "data": {
            "text/plain": [
              "<Figure size 720x432 with 1 Axes>"
            ],
            "image/png": "[encoded data removed]"
          },
          "metadata": {
            "needs_background": "light"
          }
        }
      ]
    },
    {
      "cell_type": "markdown",
      "source": [],
      "metadata": {
        "id": "2ALUr9fZiwsZ"
      }
    },
    {
      "cell_type": "markdown",
      "source": [
        " \n",
        "\n",
        "*   After observing above graphs , we can see that we are getting good overall performance with max_depth value as 16 and Tree count as 50. However, with max_depth and treecount value as 50, we are able to see the good performance but choosing the higher values can cause overfitting as well as it will also increase the computational cost of the model. \n",
        "*   Thus, I decided to choose max_depth = 16 and n_estimators as 50.\n",
        "\n",
        "\n"
      ],
      "metadata": {
        "id": "_4OA-R12iwxc"
      }
    },
    {
      "cell_type": "code",
      "source": [
        "filtered_df = random_forest_df.query('Max_depth == 16 and Tree_count == 50').loc[:, ['Max_depth', 'Accuracy', 'Recall', 'Precision', 'Net Benefit']]\n",
        "\n",
        "# Print the filtered DataFrame\n",
        "print(filtered_df)"
      ],
      "metadata": {
        "colab": {
          "base_uri": "https://localhost:8080/"
        },
        "id": "RrUqhhKEhxCs",
        "outputId": "dc7796bc-c16a-4e2f-e9d1-29e0216f03ef"
      },
      "execution_count": null,
      "outputs": [
        {
          "output_type": "stream",
          "name": "stdout",
          "text": [
            "    Max_depth  Accuracy    Recall  Precision  Net Benefit\n",
            "15       16.0  0.755152  0.351525        1.0      65245.0\n"
          ]
        }
      ]
    },
    {
      "cell_type": "markdown",
      "source": [
        "* After comparing performance values for default and configured parameter values, we can conclude that Random Forest Classifier performs well with default values. Thus, I choose to go with default configuration values of Random Forest Classifier."
      ],
      "metadata": {
        "id": "lCrUYK0g4JFO"
      }
    },
    {
      "cell_type": "code",
      "source": [],
      "metadata": {
        "id": "aRUZt1EsncWy"
      },
      "execution_count": null,
      "outputs": []
    },
    {
      "cell_type": "markdown",
      "metadata": {
        "id": "4ERgC8EJ7dWW"
      },
      "source": [
        "***\n",
        "## Section: 5.3 - Evaluate the choice of the classifier\n",
        "- What characteristics of the problem and data made the classifier a good or bad choice?\n",
        "***"
      ]
    },
    {
      "cell_type": "markdown",
      "source": [
        "**General Characteristics of Random Forest Classifier**\n",
        "\n",
        "* Random Forest is effective in handling large datasets with many features, as it reduces overfitting by randomly selecting a subset of features and samples for each tree.\n",
        "* It is good at handling missing data and maintaining high accuracy on imbalanced datasets.\n",
        "* Random Forest can handle both categorical and continuous features, making it a versatile algorithm.\n",
        "* Random Forest is computationally more expensive than a single decision tree and may take longer time to train and predict, especially when the number of trees in the ensemble is large.\n",
        "* It can be difficult to interpret the results of a Random Forest, as it is a combination of many decision trees.\n",
        "\n",
        "**Anaysis of given problem and data for Decision Tree Classifier**\n",
        "\n",
        "* Random Forest Classifier can perform better for the given dataset as it deals with overfitting problem , works well with both categorical and continuous features and handle large and imbalanced dataset.\n",
        "* However, it is computationally expensive. Thus, can take longer time to train the model."
      ],
      "metadata": {
        "id": "CCcDGFZH451c"
      }
    },
    {
      "cell_type": "code",
      "source": [],
      "metadata": {
        "id": "KlvvNYKoMD4O"
      },
      "execution_count": null,
      "outputs": []
    },
    {
      "cell_type": "markdown",
      "metadata": {
        "id": "i29VIpJQ7dWW"
      },
      "source": [
        "***\n",
        "# Section: 6 - Comparison of the Three Classifiers\n",
        "***"
      ]
    },
    {
      "cell_type": "markdown",
      "metadata": {
        "id": "iLdOIlhQ7dWX"
      },
      "source": [
        "***\n",
        "## Section: 6.1 - Compare the performance of these classifiers to each other\n",
        "- What are their strong and weak points?\n",
        "***"
      ]
    },
    {
      "cell_type": "markdown",
      "source": [
        "* Comparing performance of K-nearest neighbors, Decision Tree and Random Forest Classifier."
      ],
      "metadata": {
        "id": "pKsinlMy-7Hu"
      }
    },
    {
      "cell_type": "code",
      "source": [
        "print(Classifier_performance)"
      ],
      "metadata": {
        "colab": {
          "base_uri": "https://localhost:8080/"
        },
        "id": "CzBP-gGH_RD-",
        "outputId": "0a6c7786-25a5-4f53-99bd-d6223e86a79f"
      },
      "execution_count": null,
      "outputs": [
        {
          "output_type": "stream",
          "name": "stdout",
          "text": [
            "                 Classifier  Accuracy    Recall  Precision Net Benefit\n",
            "0               KNN_default  0.690909  0.353130   0.672783       55160\n",
            "1      KNN_with_3_neighbour  0.726061  0.537721   0.671343     58945.0\n",
            "2  Decision Tree Classifier  0.763636  0.552167   0.756044       64700\n",
            "3  Random Forest Classifier  0.762424  0.377207   0.983264       66145\n"
          ]
        }
      ]
    },
    {
      "cell_type": "markdown",
      "source": [
        "* To compare the performance of these classifiers, we need to look at the accuracy, recall, precision, and net benefit scores for each of them. We can see that the Decision Tree Classifier and Random Forest Classifier have the highest accuracy scores at 0.763636 and 0.762424, respectively. The KNN classifier with 3 neighbours also has a relatively high accuracy score at 0.726061.\n",
        "* Looking at recall and precision scores, we can see that the Random Forest Classifier has the highest precision score at 0.983264 and the Decision Tree Classifier has the highest recall score at 0.552167. The KNN classifier with 3 neighbours also has relatively high recall and precision scores. The default KNN classifier has the lowest recall and precision scores among the four classifiers.\n",
        "* Finally, we can look at the net benefit score, which takes into account the cost-benefit tradeoffs of the classifier. In this case, the Decision Tree Classifier has the highest net benefit score at 64700, followed by the Random Forest Classifier at 66145. The KNN classifier with 3 neighbours has a net benefit score of 58945.0, while the default KNN classifier has a net benefit score of 55160.\n",
        "\n",
        "* In terms of **strengths and weaknesses**, the KNN classifier is a simple and fast algorithm that can work well for datasets with small numbers of features and a large number of instances. However, it can be sensitive to the choice of k and may not work well for datasets with many features. The Decision Tree Classifier is an interpretable algorithm that can handle both numerical and categorical data, but may be prone to overfitting if the tree is too deep. The Random Forest Classifier is an ensemble method that can handle high-dimensional datasets and reduce overfitting, but can be computationally expensive and difficult to interpret.\n",
        "\n",
        "\n",
        "\n"
      ],
      "metadata": {
        "id": "zy0ARBfUAqJ5"
      }
    },
    {
      "cell_type": "code",
      "execution_count": null,
      "metadata": {
        "id": "MPxkKhn37dWX"
      },
      "outputs": [],
      "source": []
    },
    {
      "cell_type": "markdown",
      "metadata": {
        "id": "5dfRcaqQ7dWX"
      },
      "source": [
        "***\n",
        "## Section: 6.2 - Choose a Best Classifier\n",
        "- Choose one of the three classifiers as best and explain why.\n",
        "***"
      ]
    },
    {
      "cell_type": "markdown",
      "source": [
        "* From the results, we can see that the Decision Tree Classifier and Random Forest Classifier have similar accuracy scores, but the Decision Tree Classifier has a higher recall and precision score. The Random Forest Classifier, on the other hand, has the highest precision score but the lowest recall score. The KNN with 3 neighbors classifier has a lower accuracy score but a higher recall and precision score compared to the Random Forest Classifier. Based on the problem statement we want high recall than precision.\n",
        "* In terms of net benefit, the Decision Tree Classifier has the highest score, followed closely by the Random Forest Classifier. The KNN with 3 neighbors classifier has the lowest net benefit score.\n",
        "* Overall, the Decision Tree Classifier seems to perform the best on this dataset, with high accuracy, recall, and precision scores, as well as a high net benefit score. "
      ],
      "metadata": {
        "id": "ccY3psJ7BmXC"
      }
    },
    {
      "cell_type": "code",
      "execution_count": null,
      "metadata": {
        "id": "W4YVnu3j7dWX"
      },
      "outputs": [],
      "source": []
    },
    {
      "cell_type": "markdown",
      "metadata": {
        "id": "cLO9HPcG7dWX"
      },
      "source": [
        "***\n",
        "# Section: 7 - Conclusions\n",
        "- Write a paragraph on what you discovered or learned from this homework.\n",
        "- What are your overall conclusions about the data?\n",
        "- What did you learn? What would you explore further with additional data, time or resources. What might \"future research\" require to gain deeper insight? \n",
        "***"
      ]
    },
    {
      "cell_type": "markdown",
      "source": [
        "* From this assignment, I learned how to build and evaluate three popular classifiers: KNN, Decision Tree, and Random Forest. I also learned how to analyze the performance of these classifiers using metrics such as accuracy, recall, precision, and net benefit. Through this assignment, I discovered that the performance of these classifiers can vary significantly depending on the dataset and the problem statement.\n",
        "\n",
        "* My overall conclusion about the data is that it was well-structured and had a good balance of positive and negative samples. The Decision Tree Classifier had the best performance in terms of accuracy, recall, precision, and net benefit. However, the Random Forest Classifier had the highest precision score, and the KNN with 3 neighbors had the highest recall score.\n",
        "\n",
        "* Given additional data, time, or resources, I would explore further by trying out more classifiers such as Support Vector Machines or Neural Networks. I would also investigate the impact of different feature selection techniques on the performance of these classifiers. Additionally, I would like to explore the impact of hyperparameter tuning on the performance of these classifiers.\n",
        "\n",
        "* Future research in this domain might require a deeper understanding of the hotel booking industry, including the factors that influence cancellation rates. Such research would provide more insight into the dataset and enable more accurate predictions. Additionally, collecting more data on customer behavior, such as their preferences and booking patterns, would provide more insights into the problem and enable more accurate predictions."
      ],
      "metadata": {
        "id": "lhAnQtapCUdL"
      }
    },
    {
      "cell_type": "code",
      "execution_count": null,
      "metadata": {
        "id": "6xC1x6iM7dWX"
      },
      "outputs": [],
      "source": []
    },
    {
      "cell_type": "markdown",
      "metadata": {
        "id": "foTRHC6e7dWX"
      },
      "source": [
        "***\n",
        "### END-OF-SUBMISSION\n",
        "***"
      ]
    }
  ],
  "metadata": {
    "kernelspec": {
      "display_name": "Python 3 (ipykernel)",
      "language": "python",
      "name": "python3"
    },
    "language_info": {
      "codemirror_mode": {
        "name": "ipython",
        "version": 3
      },
      "file_extension": ".py",
      "mimetype": "text/x-python",
      "name": "python",
      "nbconvert_exporter": "python",
      "pygments_lexer": "ipython3",
      "version": "3.7.10"
    },
    "colab": {
      "provenance": []
    }
  },
  "nbformat": 4,
  "nbformat_minor": 0
}